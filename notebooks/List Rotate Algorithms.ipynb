{
 "cells": [
  {
   "cell_type": "markdown",
   "metadata": {},
   "source": [
    "最近在《编程珠玑》上看到一道很有趣的题目:\n",
    "\n",
    "假设我们在开发一个编辑器，要实现一个功能，将下面代码的2个函数调换位置，该怎么做呢？如果空间复杂度要求$O(1)$，又应该怎么做呢？"
   ]
  },
  {
   "cell_type": "code",
   "execution_count": null,
   "metadata": {},
   "outputs": [],
   "source": [
    "texts = [\n",
    "    'def add(a, b):',\n",
    "    '  return a + b',\n",
    "    ' ',\n",
    "    'def sub(a, b):',\n",
    "    '  retturn a - b',\n",
    "    ' '\n",
    "]"
   ]
  },
  {
   "cell_type": "markdown",
   "metadata": {},
   "source": [
    "其实这就是数组左旋转的问题，将数组的前3个元素移到数组的结尾。我最直接的想法，就是用另外一个数组保存前3个元素，然后将后3个元素往前面移动，\n",
    "最后把前面保存的3个元素放到结尾，代码也比较简洁:"
   ]
  },
  {
   "cell_type": "code",
   "execution_count": 6,
   "metadata": {},
   "outputs": [
    {
     "name": "stdout",
     "output_type": "stream",
     "text": [
      "['def add(a, b):', '  return a + b', ' ', 'def sub(a, b):', '  retturn a - b', ' ']\n",
      "['def sub(a, b):', '  retturn a - b', ' ', 'def add(a, b):', '  return a + b', ' ']\n"
     ]
    }
   ],
   "source": [
    "def left_rotate_normal(texts, rotate_len):\n",
    "    copy = texts[:rotate_len]\n",
    "    texts[:len(texts) - rotate_len] = texts[rotate_len:]\n",
    "    texts[len(texts) - rotate_len:] = copy\n",
    "    \n",
    "test_texts = texts[:]\n",
    "print(test_texts)\n",
    "left_rotate_normal(test_texts, 3)\n",
    "print(test_texts)"
   ]
  },
  {
   "cell_type": "markdown",
   "metadata": {},
   "source": [
    "测试结果，是没有问题的，这个算法的最大问题是，需要额外开辟空间，如果数组很大或要移动的部分很大，就会额外占用内存。\n",
    "\n",
    "书里面给出了两种不需要额外开辟空间的方法:\n",
    "    \n",
    "第一种我叫它跳跃法吧，其实是将整块元素的移动分成一个一个元素的移动，每次移动一个元素，就把后面的补充上来, 以第一个元素为例，\n",
    "先用一个临时变量temp保存第一个元素$texts[0]$, 然后将$texts[i]$移动到$texts[0]$, $texts[2 * i]$移到到$texts[i]$，直到结束，最后将\n",
    "temp赋值回末尾空出来的位置。代码实现如下:"
   ]
  },
  {
   "cell_type": "code",
   "execution_count": 11,
   "metadata": {},
   "outputs": [
    {
     "name": "stdout",
     "output_type": "stream",
     "text": [
      "['def add(a, b):', '  return a + b', ' ', 'def sub(a, b):', '  retturn a - b', ' ']\n",
      "['def sub(a, b):', 'def add(a, b):', '  return a + b', ' ', '  retturn a - b', ' ']\n"
     ]
    }
   ],
   "source": [
    "def left_rotate_jump(texts, rotate_len):\n",
    "    i = 0\n",
    "    while i < rotate_len:\n",
    "        temp = texts[i]\n",
    "        j = rotate_len\n",
    "        k = i\n",
    "        while j < len(texts):\n",
    "            texts[k] = texts[j]\n",
    "            k = j\n",
    "            j *= 2\n",
    "        texts[j // 2] = temp\n",
    "        i += 1\n",
    "        \n",
    "test_texts = texts[:]\n",
    "print(test_texts)\n",
    "left_rotate_jump(test_texts, 3)\n",
    "print(test_texts)"
   ]
  },
  {
   "cell_type": "markdown",
   "metadata": {},
   "source": [
    "还有一种方法，也是我觉得很神奇的算法，就是通过几次反转，就实现了数组的左旋转！原理是, 我们把数组分成2部分a和b，然后有这个恒等式:\n",
    "$$ ba = (a^rb^r)^r $$\n",
    "其中r是反转的意思。根据这个恒等式，就可以这么实现："
   ]
  },
  {
   "cell_type": "code",
   "execution_count": 9,
   "metadata": {},
   "outputs": [
    {
     "name": "stdout",
     "output_type": "stream",
     "text": [
      "['def add(a, b):', '  return a + b', ' ', 'def sub(a, b):', '  retturn a - b', ' ']\n",
      "['def sub(a, b):', '  retturn a - b', ' ', 'def add(a, b):', '  return a + b', ' ']\n"
     ]
    }
   ],
   "source": [
    "def left_rotate_reverse(texts, rotate_len):\n",
    "    reverse(texts, 0, rotate_len - 1)\n",
    "    reverse(texts, rotate_len, len(texts) - 1)\n",
    "    reverse(texts, 0, len(texts) - 1)\n",
    "    \n",
    "def reverse(texts, start, end):\n",
    "    while start < end:\n",
    "        temp = texts[start]\n",
    "        texts[start] = texts[end]\n",
    "        texts[end] = temp\n",
    "        start += 1\n",
    "        end -= 1\n",
    "\n",
    "test_texts = texts[:]\n",
    "print(test_texts)\n",
    "left_rotate_reverse(test_texts, 3)\n",
    "print(test_texts)"
   ]
  },
  {
   "cell_type": "markdown",
   "metadata": {},
   "source": [
    "非常神奇，而且很简洁！三种算法的时间复杂度都是$O(n)$，后面2种方法空间复杂度为$O(1)$，不过最后一种算法最简洁，也容易理解。"
   ]
  }
 ],
 "metadata": {
  "front-matter": {
   "date": "2018-09-13",
   "slug": "List Rotate Algorithms",
   "subtitle": "Generic subtitle",
   "title": "List Rotate Algorithms"
  },
  "hugo-jupyter": {
   "render-to": "content/post/"
  },
  "kernelspec": {
   "display_name": "Python 3",
   "language": "python",
   "name": "python3"
  },
  "language_info": {
   "codemirror_mode": {
    "name": "ipython",
    "version": 3
   },
   "file_extension": ".py",
   "mimetype": "text/x-python",
   "name": "python",
   "nbconvert_exporter": "python",
   "pygments_lexer": "ipython3",
   "version": "3.6.5"
  }
 },
 "nbformat": 4,
 "nbformat_minor": 2
}
