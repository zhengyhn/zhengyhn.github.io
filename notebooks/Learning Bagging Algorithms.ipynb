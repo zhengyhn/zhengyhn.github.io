{
 "cells": [
  {
   "cell_type": "code",
   "execution_count": 50,
   "metadata": {},
   "outputs": [
    {
     "name": "stdout",
     "output_type": "stream",
     "text": [
      "[3, 0, 2, 6, 5, 5, 8, 1, 5, 4, 8, 8, 5, 5, 7, 4, 8, 8, 1, 3, 0, 3, 3, 6, 8]\n",
      "[3, 5, 5, 0, 6, 5, 9, 4, 2, 9, 6, 1, 1, 7, 9, 5, 4, 7, 9, 9, 4, 1, 2, 0, 2]\n",
      "88\n",
      "88\n"
     ]
    }
   ],
   "source": [
    "import random\n",
    "\n",
    "def max_value_recursive(weights, values, max_weight, i):\n",
    "    if len(weights) == i:\n",
    "        return 0\n",
    "    if max_weight - weights[i] <= 0:\n",
    "        return 0\n",
    "    value_not_pick = max_value_recursive(weights, values, max_weight, i + 1)\n",
    "    value_pick = max_value_recursive(weights, values, max_weight - weights[i], i + 1)\n",
    "    return max(value_not_pick, values[i] + value_pick)\n",
    "    \n",
    "def max_value(weights, values, max_weight):\n",
    "    return max_value_recursive(weights, values, max_weight, 0)\n",
    "\n",
    "def max_value_dp(weights, values, max_weight):\n",
    "    dp = [[0 for i in range(max_weight)] for i in range(len(weights))]\n",
    "    i = len(weights) - 1\n",
    "    for j in range(weights[i], max_weight):\n",
    "        dp[i][j] = values[i]\n",
    "    for i in range(len(weights) - 2, -1, -1):\n",
    "        for j in range(weights[i], max_weight):\n",
    "            dp[i][j] = max(dp[i + 1][j], dp[i + 1][j - weights[i]] + values[i])\n",
    "    return dp[0][max_weight - 1]\n",
    "\n",
    "N = 25\n",
    "W = 50\n",
    "weights = [random.randint(0, 9) for i in range(N)]\n",
    "values = [random.randint(0, 9) for i in range(N)]\n",
    "print(weights)\n",
    "print(values)\n",
    "print(max_value(weights, values, W))\n",
    "print(max_value_dp(weights, values, W))"
   ]
  }
 ],
 "metadata": {
  "front-matter": {
   "date": "2018-11-18",
   "slug": "learning-bagging-algorithms",
   "subtitle": "Generic subtitle",
   "title": "Learning Bagging Algorithms"
  },
  "hugo-jupyter": {
   "render-to": "content/post/"
  },
  "kernelspec": {
   "display_name": "Python 3",
   "language": "python",
   "name": "python3"
  },
  "language_info": {
   "codemirror_mode": {
    "name": "ipython",
    "version": 3
   },
   "file_extension": ".py",
   "mimetype": "text/x-python",
   "name": "python",
   "nbconvert_exporter": "python",
   "pygments_lexer": "ipython3",
   "version": "3.6.5"
  }
 },
 "nbformat": 4,
 "nbformat_minor": 2
}
