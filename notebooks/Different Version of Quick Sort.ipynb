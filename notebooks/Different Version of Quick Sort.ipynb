{
 "cells": [
  {
   "cell_type": "markdown",
   "metadata": {},
   "source": [
    "最近在看《编程珠玑》，讲到快排的时候，发现除了我之前一直用的划分方法之外，还有一种划分方法，可以在大量元素相等的情况下保持较大的效率，查了一下，原来我以前一直写的划分方法叫做单向扫描法，现在这种方法叫做双向扫描法。于是，自己动手实现一下，涨知识。\n",
    "\n",
    "因为后面要做性能比较，出于公平，都使用非递归方式来实现，用了python的deque来当作栈来使用。\n",
    "\n",
    "下面这个是我之前很熟悉的单向扫描法的实现："
   ]
  },
  {
   "cell_type": "code",
   "execution_count": 57,
   "metadata": {},
   "outputs": [],
   "source": [
    "import random\n",
    "from collections import deque\n",
    "\n",
    "def quick_sort1(arr):\n",
    "    queue = deque([0, len(arr) - 1])\n",
    "    while len(queue) > 0:\n",
    "        left = queue.popleft()\n",
    "        right = queue.popleft()\n",
    "        if left >= right:\n",
    "            continue\n",
    "        pivot_index = random.randint(left, right)\n",
    "        arr[pivot_index], arr[right] = arr[right], arr[pivot_index]\n",
    "        store_index = left\n",
    "        for i in range(left, right):\n",
    "            if arr[i] < arr[right]:\n",
    "                arr[i], arr[store_index] = arr[store_index], arr[i]\n",
    "                store_index += 1\n",
    "        arr[store_index], arr[right] = arr[right], arr[store_index]\n",
    "        queue.extend([left, store_index - 1, store_index + 1, right])"
   ]
  },
  {
   "cell_type": "markdown",
   "metadata": {},
   "source": [
    "而下面的是双向扫描法，不同之处在于划分的代码，使用2个指针，一前一后跟参照元素比较，不会每次都交换，例如最左边的元素，只有遇到比参照元素大的元素时才会停止扫描，这样在很多元素相同的情况下，可以减少很多次交换。\n",
    "\n",
    "代码如下："
   ]
  },
  {
   "cell_type": "code",
   "execution_count": null,
   "metadata": {},
   "outputs": [],
   "source": [
    "def quick_sort2(arr):\n",
    "    queue = deque([0, len(arr) - 1])\n",
    "    while len(queue) > 0:\n",
    "        left = queue.popleft()\n",
    "        right = queue.popleft()\n",
    "        if left >= right:\n",
    "            continue\n",
    "        pivot_index = random.randint(left, right)\n",
    "        arr[pivot_index], arr[right] = arr[right], arr[pivot_index]\n",
    "        i = left - 1\n",
    "        j = right\n",
    "        while i < j:\n",
    "            i += 1\n",
    "            j -= 1\n",
    "            while i <= j and arr[i] < arr[right]:\n",
    "                i += 1\n",
    "            while arr[j] > arr[right]:\n",
    "                j -= 1\n",
    "            if i < j:\n",
    "                arr[i], arr[j] = arr[j], arr[i]\n",
    "        arr[i], arr[right] = arr[right], arr[i]\n",
    "        queue.extend([left, i - 1, i + 1, right])"
   ]
  },
  {
   "cell_type": "markdown",
   "metadata": {},
   "source": [
    "再试一下，当元素个数比较少时，使用插入排序来代替，看下会不会提高性能。"
   ]
  },
  {
   "cell_type": "code",
   "execution_count": null,
   "metadata": {},
   "outputs": [],
   "source": [
    "def quick_sort3(arr):\n",
    "    queue = deque([0, len(arr) - 1])\n",
    "    while len(queue) > 0:\n",
    "        left = queue.popleft()\n",
    "        right = queue.popleft()\n",
    "        if left >= right:\n",
    "            continue\n",
    "        # 元素个数小于7个时，使用插入排序\n",
    "        if right - left < 7:\n",
    "            for i in range(left + 1, right + 1):\n",
    "                temp = arr[i]\n",
    "                j = i - 1\n",
    "                while j >= 0 and arr[j] > temp:\n",
    "                    arr[j + 1] = arr[j]\n",
    "                    j -= 1\n",
    "                arr[j + 1] = temp\n",
    "            continue\n",
    "            \n",
    "        pivot_index = random.randint(left, right)\n",
    "        arr[pivot_index], arr[right] = arr[right], arr[pivot_index]\n",
    "        i = left - 1\n",
    "        j = right\n",
    "        while i < j:\n",
    "            i += 1\n",
    "            j -= 1\n",
    "            while i <= j and arr[i] < arr[right]:\n",
    "                i += 1\n",
    "            while arr[j] > arr[right]:\n",
    "                j -= 1\n",
    "            if i < j:\n",
    "                arr[i], arr[j] = arr[j], arr[i]\n",
    "        arr[i], arr[right] = arr[right], arr[i]\n",
    "        queue.extend([left, i - 1, i + 1, right])"
   ]
  },
  {
   "cell_type": "markdown",
   "metadata": {},
   "source": [
    "现在来造一个数据，看下三种算法的实现是否都正确："
   ]
  },
  {
   "cell_type": "code",
   "execution_count": 58,
   "metadata": {
    "scrolled": true
   },
   "outputs": [
    {
     "name": "stdout",
     "output_type": "stream",
     "text": [
      "[8, 9, 4, 9, 2, 9, 3, 9, 0, 6]\n",
      "[0, 2, 3, 4, 6, 8, 9, 9, 9, 9]\n",
      "[0, 2, 3, 4, 6, 8, 9, 9, 9, 9]\n",
      "[0, 2, 3, 4, 6, 8, 9, 9, 9, 9]\n"
     ]
    }
   ],
   "source": [
    "arr = [random.randint(0, 9) for i in range(0, 10)]\n",
    "print(arr)\n",
    "copy = arr[:]\n",
    "quick_sort1(copy)\n",
    "print(copy)\n",
    "copy = arr[:]\n",
    "quick_sort2(copy)\n",
    "print(copy)\n",
    "copy = arr[:]\n",
    "quick_sort3(copy)\n",
    "print(copy)"
   ]
  },
  {
   "cell_type": "markdown",
   "metadata": {},
   "source": [
    "看输出，是正确的。最后来做一下性能测试，其中N是元素个数，M是元素取值的最大值，最小值是0。"
   ]
  },
  {
   "cell_type": "code",
   "execution_count": 61,
   "metadata": {},
   "outputs": [
    {
     "name": "stdout",
     "output_type": "stream",
     "text": [
      "0.6726022359216586\n",
      "0.6794583379523829\n",
      "0.5315109230577946\n"
     ]
    }
   ],
   "source": [
    "import timeit\n",
    "\n",
    "N = 10000\n",
    "M = N\n",
    "def test_quick_sort1():\n",
    "    arr = [random.randint(0, M) for i in range(0, N)]\n",
    "    quick_sort1(arr)\n",
    "    \n",
    "def test_quick_sort2():\n",
    "    arr = [random.randint(0, M) for i in range(0, N)]\n",
    "    quick_sort2(arr)\n",
    "\n",
    "def test_quick_sort3():\n",
    "    arr = [random.randint(0, M) for i in range(0, N)]\n",
    "    quick_sort3(arr)\n",
    "    \n",
    "print(timeit.timeit('test_quick_sort1()', number=10, setup='from __main__ import test_quick_sort1'))\n",
    "print(timeit.timeit('test_quick_sort2()', number=10, setup='from __main__ import test_quick_sort2'))\n",
    "print(timeit.timeit('test_quick_sort3()', number=10, setup='from __main__ import test_quick_sort3'))"
   ]
  },
  {
   "cell_type": "markdown",
   "metadata": {},
   "source": [
    "可以看到，两种划分方式的速度几乎是一样的，这是因为元素的取值足够随机，如果每个元素都不一样，两种算法的速度几乎一致。而混合了插入排序的实现就有较大的速度提高。\n",
    "\n",
    "再来改一下M值，让随机生成的数据有较多的相等元素，看一下效果怎么样："
   ]
  },
  {
   "cell_type": "code",
   "execution_count": 62,
   "metadata": {},
   "outputs": [
    {
     "name": "stdout",
     "output_type": "stream",
     "text": [
      "1.1784412029664963\n",
      "0.7004980799974874\n",
      "0.47143277898430824\n"
     ]
    }
   ],
   "source": [
    "N = 10000\n",
    "M = N / 100\n",
    "\n",
    "print(timeit.timeit('test_quick_sort1()', number=10, setup='from __main__ import test_quick_sort1'))\n",
    "print(timeit.timeit('test_quick_sort2()', number=10, setup='from __main__ import test_quick_sort2'))\n",
    "print(timeit.timeit('test_quick_sort3()', number=10, setup='from __main__ import test_quick_sort3'))"
   ]
  },
  {
   "cell_type": "markdown",
   "metadata": {},
   "source": [
    "可以看出来，效果非常明显，现在元素的取值范围为0~100之间，一共有10000个元素，那随机产生的数组里面，相等的元素会非常多，这个时候，双向扫描的速度大大提高。而基于双向扫描的基础上加上插入排序的实现，速度更快！"
   ]
  }
 ],
 "metadata": {
  "front-matter": {
   "date": "2018-10-04",
   "slug": "Different Version of Quick Sort",
   "subtitle": "Generic subtitle",
   "title": "Different Version of Quick Sort"
  },
  "hugo-jupyter": {
   "render-to": "content/post/"
  },
  "kernelspec": {
   "display_name": "Python 3",
   "language": "python",
   "name": "python3"
  },
  "language_info": {
   "codemirror_mode": {
    "name": "ipython",
    "version": 3
   },
   "file_extension": ".py",
   "mimetype": "text/x-python",
   "name": "python",
   "nbconvert_exporter": "python",
   "pygments_lexer": "ipython3",
   "version": "3.6.5"
  }
 },
 "nbformat": 4,
 "nbformat_minor": 2
}
