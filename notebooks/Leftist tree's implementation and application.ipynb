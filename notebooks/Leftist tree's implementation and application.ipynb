{
 "cells": [
  {
   "cell_type": "markdown",
   "metadata": {},
   "source": [
    "不小心看到一种数据结构，叫左偏堆，又叫左偏树，据说跟二叉堆一样，可以实现优先队列的功能，而且比二叉堆实现起来简单，于是研究了一下。\n",
    "\n",
    "## 需求\n",
    "\n",
    "优先队列的应用是非常广泛的，工作中还没遇到过这种需求，所以我现在制造一个需求，假设现在在开发一个项目管理系统，我们每天都要用的那种，每个任务都有优先级，我们肯定是先做优先级高的任务，再做优先级低的任务，由于插需求的事情经常发生，当一个需求插入时，我们要实现一个功能：优先级最高的排在看板的最顶部，当任务移走时，下一个优先级最高的排在最前面。\n",
    "\n",
    "## 实现\n",
    "\n",
    "看板的一列，我们可以看做是一个列表，每个元素，我给它定义成一个类Card，它有2个成员: title和priority，为了遵循习惯，priority越小的优先级越高, 优先级取值范围是1~5。\n",
    "\n",
    "定义如下："
   ]
  },
  {
   "cell_type": "code",
   "execution_count": 26,
   "metadata": {},
   "outputs": [],
   "source": [
    "class Card:\n",
    "    def __init__(self, title, priority):\n",
    "        self.title = title\n",
    "        self.priority = priority\n",
    "    \n",
    "    def __gt__(self, b):\n",
    "        return self.priority > b.priority\n",
    "    \n",
    "    def __str__(self):\n",
    "        return 'card: ' + self.title + ', priority: ' + str(self.priority)\n",
    "    \n",
    "    def __repl__(self):\n",
    "        return 'card: ' + self.title + ', priority: ' + str(self.priority)"
   ]
  },
  {
   "cell_type": "markdown",
   "metadata": {},
   "source": [
    "要实现这个需求，很明显就是使用优先队列，每次插入一个元素或者删除最顶元素时，就重新调整，保证优先级最小的元素在最前面，现在用左倾堆来实现。由于没有要求按优先级排序，所以不需要做堆排序。\n",
    "\n",
    "先说一下左倾堆的性质：\n",
    "\n",
    "- 它是一种堆，也就是说，如果是小根堆，每个节点的值比2个孩子的值要小，如果是大根堆，就要大\n",
    "- 它是左倾的，意思是说，永远保持左子树的深度要比右子树的要大，所以它是不平衡的树\n",
    "- 建堆需要$O(n)$，插入和删掉都只需要$O(logn)$\n",
    "- 在最坏情况下，它会退化成一个链表，每个节点都只有左子树，就是输入元素是逆序的情况下\n",
    "- 只适合删除堆顶元素的情况，不能删除任意一个元素，这种操作也叫Extract-Min\n",
    "\n",
    "左倾堆实现起来非常简单，原因是，插入和删除操作，都是使用合并操作来实现的。看代码："
   ]
  },
  {
   "cell_type": "code",
   "execution_count": 38,
   "metadata": {},
   "outputs": [],
   "source": [
    "import random\n",
    "from collections import deque\n",
    "\n",
    "class LeftistNode:\n",
    "    def __init__(self, val):\n",
    "        self.val = val\n",
    "        # distance是节点到右孩子的距离\n",
    "        self.distance = 0\n",
    "        self.left_child = None\n",
    "        self.right_child = None\n",
    "    def __str__(self):\n",
    "        return 'node:' + str(self.val)\n",
    "    \n",
    "class LeftistTree:\n",
    "    def __init__(self, arr):\n",
    "        self.root = None\n",
    "        for item in arr:\n",
    "            self.insert(item)\n",
    "    \n",
    "    def insert(self, item):\n",
    "        node = LeftistNode(item)\n",
    "        self.root = self.merge(self.root, node)\n",
    "        \n",
    "    def delete(self):\n",
    "        # 合并左右子树，相当于删除根节点\n",
    "        self.root = self.merge(self.root.left_child, self.root.right_child)\n",
    "        \n",
    "    def merge(self, left, right):\n",
    "        if left == None:\n",
    "            return right\n",
    "        if right == None:\n",
    "            return left\n",
    "        if left.val > right.val:\n",
    "            left, right = right, left\n",
    "        # 总是从右子树生长\n",
    "        left.right_child = self.merge(left.right_child, right)\n",
    "        # 总是保持左子树深度最大\n",
    "        if left.left_child == None or left.left_child.distance < left.right_child.distance:\n",
    "            left.left_child, left.right_child = left.right_child, left.left_child\n",
    "        # 更新根节点到右子树的距离\n",
    "        if left.right_child == None:\n",
    "            left.distance = 0\n",
    "        else:\n",
    "            left.distance = left.right_child.distance + 1\n",
    "        return left\n",
    "    \n",
    "    def show(self):\n",
    "        queue = deque([self.root])\n",
    "        while len(queue) > 0:\n",
    "            node = queue.popleft()\n",
    "            print(node.val)\n",
    "            if node.right_child != None:\n",
    "                queue.append(node.right_child)\n",
    "            if node.left_child != None:\n",
    "                queue.append(node.left_child)\n",
    "        print('')"
   ]
  },
  {
   "cell_type": "markdown",
   "metadata": {},
   "source": [
    "现在来生成一些数据，用于测试:"
   ]
  },
  {
   "cell_type": "code",
   "execution_count": 42,
   "metadata": {
    "scrolled": true
   },
   "outputs": [
    {
     "name": "stdout",
     "output_type": "stream",
     "text": [
      "card: 开发注册功能, priority: 3\n",
      "card: 开发登录功能, priority: 3\n",
      "card: 优化查看详情功能, priority: 2\n",
      "card: 重构下载文件功能, priority: 4\n",
      "card: 重构项目结构, priority: 5\n",
      "card: 开发列表查询功能, priority: 5\n",
      "card: 开发用户管理功能, priority: 2\n",
      "\n",
      "card: 优化查看详情功能, priority: 2\n",
      "card: 开发用户管理功能, priority: 2\n",
      "card: 重构下载文件功能, priority: 4\n",
      "card: 开发注册功能, priority: 3\n",
      "card: 开发列表查询功能, priority: 5\n",
      "card: 重构项目结构, priority: 5\n",
      "card: 开发登录功能, priority: 3\n",
      "\n",
      "card: 紧急处理用户不能登录的bug, priority: 1\n",
      "card: 优化查看详情功能, priority: 2\n",
      "card: 开发用户管理功能, priority: 2\n",
      "card: 重构下载文件功能, priority: 4\n",
      "card: 开发注册功能, priority: 3\n",
      "card: 开发列表查询功能, priority: 5\n",
      "card: 重构项目结构, priority: 5\n",
      "card: 开发登录功能, priority: 3\n",
      "\n",
      "card: 优化查看详情功能, priority: 2\n",
      "card: 开发用户管理功能, priority: 2\n",
      "card: 重构下载文件功能, priority: 4\n",
      "card: 开发注册功能, priority: 3\n",
      "card: 开发列表查询功能, priority: 5\n",
      "card: 重构项目结构, priority: 5\n",
      "card: 开发登录功能, priority: 3\n",
      "\n",
      "card: 开发用户管理功能, priority: 2\n",
      "card: 开发注册功能, priority: 3\n",
      "card: 重构下载文件功能, priority: 4\n",
      "card: 开发登录功能, priority: 3\n",
      "card: 开发列表查询功能, priority: 5\n",
      "card: 重构项目结构, priority: 5\n",
      "\n"
     ]
    }
   ],
   "source": [
    "arr = [\n",
    "    Card('开发注册功能', random.randint(2, 5)),\n",
    "    Card('开发登录功能', random.randint(2, 5)),\n",
    "    Card('优化查看详情功能', random.randint(2, 5)),\n",
    "    Card('重构下载文件功能', random.randint(2, 5)),\n",
    "    Card('重构项目结构', random.randint(2, 5)),\n",
    "    Card('开发列表查询功能', random.randint(2, 5)),\n",
    "    Card('开发用户管理功能', random.randint(2, 5)),\n",
    "]\n",
    "for item in arr:\n",
    "    print(item)\n",
    "print('')\n",
    "tree = LeftistTree(arr)\n",
    "tree.show()\n",
    "\n",
    "tree.insert(Card('紧急处理用户不能登录的bug', 1))\n",
    "tree.show()\n",
    "\n",
    "tree.delete()\n",
    "tree.show()\n",
    "\n",
    "tree.delete()\n",
    "tree.show()"
   ]
  },
  {
   "cell_type": "markdown",
   "metadata": {},
   "source": [
    "可以看出来，建堆之后，优先级最高的是为2的任务，这个时候插入了一个bug，要紧急处理，优先级为1，堆顶元素就变成这个bug了，处理完这个bug之后，移走，相当于删除掉，优先级最高的又变成优先级2的任务了，再移走，又是下一个，说明我们已经实现了优先队列，并且满足了这个需求，更有趣的是，这个左倾树的实现居然这么简单！！\n",
    "\n",
    "## 参考资料\n",
    "\n",
    "- [Leftist Tree](https://en.wikipedia.org/wiki/Leftist_tree)"
   ]
  },
  {
   "cell_type": "markdown",
   "metadata": {},
   "source": []
  }
 ],
 "metadata": {
  "front-matter": {
   "date": "2018-10-05",
   "slug": "Leftist tree's implementation and application",
   "subtitle": "Generic subtitle",
   "title": "Leftist tree's implementation and application"
  },
  "hugo-jupyter": {
   "render-to": "content/post/"
  },
  "kernelspec": {
   "display_name": "Python 3",
   "language": "python",
   "name": "python3"
  },
  "language_info": {
   "codemirror_mode": {
    "name": "ipython",
    "version": 3
   },
   "file_extension": ".py",
   "mimetype": "text/x-python",
   "name": "python",
   "nbconvert_exporter": "python",
   "pygments_lexer": "ipython3",
   "version": "3.6.5"
  }
 },
 "nbformat": 4,
 "nbformat_minor": 2
}
