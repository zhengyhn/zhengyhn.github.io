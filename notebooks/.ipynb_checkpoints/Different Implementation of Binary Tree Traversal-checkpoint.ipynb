{
 "cells": [
  {
   "cell_type": "markdown",
   "metadata": {},
   "source": [
    "最近在做leetcode时，发现了另外一种二叉树遍历的方法，于是总结回之前掌握的遍历方法，做此笔记。\n",
    "\n",
    "## 建树\n",
    "\n",
    "首先定义一棵树，val为元素的值，left是左节点，right是右节点。\n",
    "\n",
    "并做最基本的建树操作，传入一个数组，构造一棵二分查找树。"
   ]
  },
  {
   "cell_type": "code",
   "execution_count": 68,
   "metadata": {},
   "outputs": [],
   "source": [
    "class TreeNode:\n",
    "    def __init__(self, val):\n",
    "        self.val = val\n",
    "        self.left = None\n",
    "        self.right = None\n",
    "\n",
    "class BinaryTree:\n",
    "    def __init__(self, arr):\n",
    "        self.root = TreeNode(arr[0])\n",
    "        for item in arr[1:]:\n",
    "            pre = self.root\n",
    "            cur = self.root\n",
    "            while cur != None:\n",
    "                pre = cur\n",
    "                if item < cur.val:\n",
    "                    cur = cur.left\n",
    "                    if cur == None:\n",
    "                        pre.left = TreeNode(item)\n",
    "                        break\n",
    "                else:\n",
    "                    cur = cur.right\n",
    "                    if cur == None:\n",
    "                        pre.right = TreeNode(item)\n",
    "                        break"
   ]
  },
  {
   "cell_type": "markdown",
   "metadata": {},
   "source": [
    "## 递归法\n",
    "\n",
    "最简单的树遍历方法就是递归法了，直接就是利用定义，三种遍历方法的区别就是移动一下输出节点的位置。"
   ]
  },
  {
   "cell_type": "code",
   "execution_count": 69,
   "metadata": {},
   "outputs": [],
   "source": [
    "def preorder_recursive(root, ret):\n",
    "    if root == None:\n",
    "        return\n",
    "    ret.append(root.val)\n",
    "    preorder_recursive(root.left, ret)\n",
    "    preorder_recursive(root.right, ret)\n",
    "    \n",
    "def inorder_recursive(root, ret):\n",
    "    if root == None:\n",
    "        return\n",
    "    inorder_recursive(root.left, ret)\n",
    "    ret.append(root.val)\n",
    "    inorder_recursive(root.right, ret)\n",
    " \n",
    "def postorder_recursive(root, ret):\n",
    "    if root == None:\n",
    "        return\n",
    "    postorder_recursive(root.left, ret)\n",
    "    postorder_recursive(root.right, ret)\n",
    "    ret.append(root.val)\n"
   ]
  },
  {
   "cell_type": "markdown",
   "metadata": {},
   "source": [
    "## 非递归-栈模拟法\n",
    "\n",
    "比较常见的非递归方法，就是用栈来模拟，这个方法还是有难度的，现在每种遍历都来做一下笔记。\n",
    "\n",
    "### 前序遍历\n",
    "\n",
    "这个比较简单，用一个栈来模拟，记录下一个要经过的节点，由于前序遍历是经过时就输出，所以从栈取出之后立即输出就行。这里的技巧就是，先把节点的右节点入栈，再把左节点入栈，这样下次取的时候就是左节点优先，符合遍历的规则。"
   ]
  },
  {
   "cell_type": "code",
   "execution_count": 70,
   "metadata": {},
   "outputs": [],
   "source": [
    "from collections import deque\n",
    "\n",
    "def preorder_iterate(root):\n",
    "    ret = []\n",
    "    stack = deque([root])\n",
    "    while len(stack) > 0:\n",
    "        top = stack.pop()\n",
    "        ret.append(top.val)\n",
    "        if top.right != None:\n",
    "            stack.append(top.right)\n",
    "        if top.left != None:\n",
    "            stack.append(top.left)\n",
    "    return ret"
   ]
  },
  {
   "cell_type": "markdown",
   "metadata": {},
   "source": [
    "### 中序遍历\n",
    "\n",
    "这个难度中等，除了用一个栈来记录节点，还需要加多一个指针，就叫cur吧，指向当前遍历到的节点。这里的技巧是，每次都将最左边的节点进栈，取出栈顶元素时，就直接输出，然后判断该元素是否有右节点，如果有，再以右子树为整体，将右子树的最左边节点进栈，保证每次从栈顶元素取出的是要输出的元素。"
   ]
  },
  {
   "cell_type": "code",
   "execution_count": 71,
   "metadata": {},
   "outputs": [],
   "source": [
    "def inorder_iterate(root):\n",
    "    ret = []\n",
    "    stack = deque([])\n",
    "    cur = root\n",
    "    while cur != None or len(stack) > 0:\n",
    "        # 每次都将最左边节点进栈\n",
    "        while cur != None:\n",
    "            stack.append(cur)\n",
    "            cur = cur.left\n",
    "        # 这个时点，cur一定指空指针\n",
    "        top = stack.pop()\n",
    "        ret.append(top.val)\n",
    "        # 当栈顶元素存在右节点时，cur就指向它的右节点，进行新的一轮左节点入栈\n",
    "        if top.right != None:\n",
    "            cur = top.right\n",
    "    return ret"
   ]
  },
  {
   "cell_type": "markdown",
   "metadata": {},
   "source": [
    "### 后序遍历\n",
    "\n",
    "这个很难，有很多实现，我自己也发明了一种实现，但是看了别人的实现，感觉人家的很巧妙，决定采用别人的思路。\n",
    "\n",
    "后序遍历是先输出左右节点，再输出根节点，如果采用入栈遍历的形式，根节点需要先不出栈，然后再遍历右子树，等到返回的时候再输出。现在需要个方法来判断什么时候是第一次遍历，什么时候是返回。这里有个技巧，用另外一个指针pre记录上一次遍历过的节点，如果pre节点是当前节点的孩子节点，那说明是在返回过程。"
   ]
  },
  {
   "cell_type": "code",
   "execution_count": 73,
   "metadata": {},
   "outputs": [],
   "source": [
    "def postorder_iterate(root):\n",
    "    ret = []\n",
    "    stack = deque([root])\n",
    "    pre = None\n",
    "    while len(stack) > 0:\n",
    "        top = stack[-1]\n",
    "        if (top.left == None and top.right == None) or (pre != None and (pre == top.left or pre == top.right)):\n",
    "            ret.append(top.val)\n",
    "            pre = top\n",
    "            stack.pop()\n",
    "        else:\n",
    "            if top.right != None:\n",
    "                stack.append(top.right)\n",
    "            if top.left != None:\n",
    "                stack.append(top.left)\n",
    "    return ret  "
   ]
  },
  {
   "cell_type": "markdown",
   "metadata": {},
   "source": [
    "## 非递归-Morris法\n",
    "\n",
    "还有一种非递归法，可以不使用栈来模拟，不需要额外开辟空间，这就是morris法，对，就是KMP算法中间那个M。\n",
    "\n",
    "它采用的原理是线索二叉树，通过用右节点为空的节点，将右节点连接到下一个要遍历的节点。\n",
    "\n",
    "不过，由于这样子会修改二叉树，所以需要重复的遍历一次，将之前修改的右节点重新指向空指针，所以速度上会慢一些。\n",
    "\n",
    "morris算法刚提出的时候是用于解决中序遍历问题的，但是修改一下，也是可以应用于前序遍历和后序遍历的。\n",
    "\n",
    "### 前序遍历\n",
    "\n",
    "原理是这样的，对于遍历到的当前节点cur，去它的左节点开始找最右边的节点，然后连接到当前节点。这个是连接过程。当重新回到当前节点cur时，再走同样的路，将左节点开始找到的最右节点，把之前的连接去掉，以保证二叉树没有被修改。\n",
    "\n",
    "由于是前序遍历，所以我们在每次连接过程中，将当前节点输出就行。"
   ]
  },
  {
   "cell_type": "code",
   "execution_count": null,
   "metadata": {},
   "outputs": [],
   "source": [
    "def preorder_morris(root):\n",
    "    ret = []\n",
    "    cur = root\n",
    "    while cur != None:\n",
    "        if cur.left == None:\n",
    "            ret.append(cur.val)\n",
    "            cur = cur.right\n",
    "        else:\n",
    "            p = cur.left\n",
    "            while p.right != None and p.right != cur:\n",
    "                p = p.right\n",
    "            if p.right == None:\n",
    "                ret.append(cur.val)\n",
    "                p.right = cur\n",
    "                cur = cur.left\n",
    "            else:\n",
    "                p.right = None\n",
    "                cur = cur.right\n",
    "    return ret"
   ]
  },
  {
   "cell_type": "markdown",
   "metadata": {},
   "source": [
    "### 中序遍历\n",
    "\n",
    "中序遍历的原理一样，只是输出节点的时机不一样，前序遍历是在建立连接的时候输出当前节点，中序遍历则是在删除连接的时候输出。"
   ]
  },
  {
   "cell_type": "code",
   "execution_count": null,
   "metadata": {},
   "outputs": [],
   "source": [
    "def inorder_morris(root):\n",
    "    ret = []\n",
    "    cur = root\n",
    "    while cur != None:\n",
    "        if cur.left == None:\n",
    "            ret.append(cur.val)\n",
    "            cur = cur.right\n",
    "        else:\n",
    "            p = cur.left\n",
    "            while p.right != None and p.right != cur:\n",
    "                p = p.right\n",
    "            if p.right == None:\n",
    "                p.right = cur\n",
    "                cur = cur.left\n",
    "            else:\n",
    "                p.right = None\n",
    "                ret.append(cur.val)\n",
    "                cur = cur.right\n",
    "    return ret"
   ]
  },
  {
   "cell_type": "markdown",
   "metadata": {},
   "source": [
    "### 后序遍历\n",
    "\n",
    "后序遍历，网上有一些实现，但是我看了，实现复杂，而且跟用栈模拟没有两样，那样子实现后序遍历还真的不如用栈来做，而且一点也不优雅。"
   ]
  },
  {
   "cell_type": "code",
   "execution_count": null,
   "metadata": {},
   "outputs": [],
   "source": [
    "def postorder_morris(root):\n",
    "    pass"
   ]
  },
  {
   "cell_type": "markdown",
   "metadata": {},
   "source": [
    "## 测试\n",
    "\n",
    "现在来测试一下，生成一个随机数组，建一棵树，然后输出上面各个方法的结果。"
   ]
  },
  {
   "cell_type": "code",
   "execution_count": 74,
   "metadata": {},
   "outputs": [
    {
     "name": "stdout",
     "output_type": "stream",
     "text": [
      "[80, 47, 97, 31, 90, 88, 54, 12, 46, 46]\n",
      "preorder:\n",
      "[80, 47, 31, 12, 46, 46, 54, 97, 90, 88]\n",
      "[80, 47, 31, 12, 46, 46, 54, 97, 90, 88]\n",
      "[80, 47, 31, 12, 46, 46, 54, 97, 90, 88]\n",
      "inorder:\n",
      "[12, 31, 46, 46, 47, 54, 80, 88, 90, 97]\n",
      "[12, 31, 46, 46, 47, 54, 80, 88, 90, 97]\n",
      "[12, 31, 46, 46, 47, 54, 80, 88, 90, 97]\n",
      "postorder:\n",
      "[12, 46, 46, 31, 54, 47, 88, 90, 97, 80]\n",
      "[12, 46, 46, 31, 54, 47, 88, 90, 97, 80]\n"
     ]
    }
   ],
   "source": [
    "import random\n",
    "\n",
    "arr = [random.randint(0, 100) for i in range(0, 10)]\n",
    "# arr = [63, 69, 30, 8, 66, 79, 38, 5, 23, 85]\n",
    "print(arr)\n",
    "tree = BinaryTree(arr)\n",
    "ret = []\n",
    "print('preorder:')\n",
    "preorder_recursive(tree.root, ret)\n",
    "print(ret)\n",
    "ret = preorder_iterate(tree.root)\n",
    "print(ret)\n",
    "ret = preorder_morris(tree.root)\n",
    "print(ret)\n",
    "\n",
    "print('inorder:')\n",
    "ret = []\n",
    "inorder_recursive(tree.root, ret)\n",
    "print(ret)\n",
    "ret = inorder_iterate(tree.root)\n",
    "print(ret)\n",
    "ret = inorder_morris(tree.root)\n",
    "print(ret)\n",
    "\n",
    "print('postorder:')\n",
    "ret = []\n",
    "postorder_recursive(tree.root, ret)\n",
    "print(ret)\n",
    "ret = postorder_iterate(tree.root)\n",
    "print(ret)"
   ]
  },
  {
   "cell_type": "markdown",
   "metadata": {},
   "source": [
    "看上面的输出，各个方法实现应该是没有问题的。\n",
    "\n",
    "## 性能测试\n",
    "\n",
    "来做个性能测试，看下各个算法的效率。"
   ]
  },
  {
   "cell_type": "code",
   "execution_count": 76,
   "metadata": {
    "scrolled": true
   },
   "outputs": [
    {
     "name": "stdout",
     "output_type": "stream",
     "text": [
      "test_preorder_recursive: 0.06207431899383664\n",
      "test_preorder_iterate: 0.09082036302424967\n",
      "test_preorder_morris: 0.12435238715261221\n",
      "\n",
      "test_inorder_recursive: 0.08404548815451562\n",
      "test_inorder_iterate: 0.06744503695517778\n",
      "test_inorder_morris: 0.11024954705499113\n",
      "\n",
      "test_postorder_recursive: 0.08274320606142282\n",
      "test_postorder_iterate: 0.1368340360932052\n"
     ]
    }
   ],
   "source": [
    "import timeit\n",
    "import random\n",
    "\n",
    "N = 10000\n",
    "arr = [random.randint(0, N) for i in range(0, N)]\n",
    "tree = BinaryTree(arr)\n",
    "ret = []\n",
    "\n",
    "def test_preorder_recursive():\n",
    "    preorder_recursive(tree.root, ret)\n",
    "    \n",
    "def test_preorder_iterate():\n",
    "    ret = preorder_iterate(tree.root)\n",
    "    \n",
    "def test_preorder_morris():\n",
    "    ret = preorder_morris(tree.root)\n",
    "        \n",
    "def test_inorder_recursive():\n",
    "    inorder_recursive(tree.root, ret)\n",
    "    \n",
    "def test_inorder_iterate():\n",
    "    ret = inorder_iterate(tree.root)\n",
    "    \n",
    "def test_inorder_morris():\n",
    "    ret = inorder_morris(tree.root)\n",
    "    \n",
    "def test_postorder_recursive():\n",
    "    postorder_recursive(tree.root, ret)\n",
    "    \n",
    "def test_postorder_iterate():\n",
    "    ret = postorder_iterate(tree.root)\n",
    "        \n",
    "print('test_preorder_recursive:', \n",
    "      timeit.timeit(test_preorder_recursive, number=10, setup='from __main__ import test_preorder_recursive'))\n",
    "print('test_preorder_iterate:', \n",
    "      timeit.timeit(test_preorder_iterate, number=10, setup='from __main__ import test_preorder_iterate'))\n",
    "print('test_preorder_morris:', \n",
    "      timeit.timeit(test_preorder_morris, number=10, setup='from __main__ import test_preorder_morris'))\n",
    "print('')\n",
    "print('test_inorder_recursive:', \n",
    "      timeit.timeit(test_inorder_recursive, number=10, setup='from __main__ import test_inorder_recursive'))\n",
    "print('test_inorder_iterate:', \n",
    "      timeit.timeit(test_inorder_iterate, number=10, setup='from __main__ import test_inorder_iterate'))\n",
    "print('test_inorder_morris:', \n",
    "      timeit.timeit(test_inorder_morris, number=10, setup='from __main__ import test_inorder_morris'))\n",
    "print('')\n",
    "print('test_postorder_recursive:', \n",
    "      timeit.timeit(test_postorder_recursive, number=10, setup='from __main__ import test_postorder_recursive'))\n",
    "print('test_postorder_iterate:', \n",
    "      timeit.timeit(test_postorder_iterate, number=10, setup='from __main__ import test_postorder_iterate'))"
   ]
  },
  {
   "cell_type": "markdown",
   "metadata": {},
   "source": [
    "从上面看出来，morris算法是最慢的，对于morris算法，栈模拟的方法可以算是用空间来换时间，而递归算法，有时候也会比非递归算法快，哈哈。\n",
    "\n",
    "## 参考资料\n",
    "\n",
    "- [Morris Traversal方法遍历二叉树（非递归，不用栈，O(1)空间）](https://www.cnblogs.com/AnnieKim/archive/2013/06/15/MorrisTraversal.html)\n",
    "- [二叉树的非递归遍历](https://www.cnblogs.com/dolphin0520/archive/2011/08/25/2153720.html)\n",
    "- [Binary Tree Inorder Traversal](https://leetcode.com/problems/binary-tree-inorder-traversal/solution/)"
   ]
  }
 ],
 "metadata": {
  "kernelspec": {
   "display_name": "Python 3",
   "language": "python",
   "name": "python3"
  },
  "language_info": {
   "codemirror_mode": {
    "name": "ipython",
    "version": 3
   },
   "file_extension": ".py",
   "mimetype": "text/x-python",
   "name": "python",
   "nbconvert_exporter": "python",
   "pygments_lexer": "ipython3",
   "version": "3.6.5"
  }
 },
 "nbformat": 4,
 "nbformat_minor": 2
}
