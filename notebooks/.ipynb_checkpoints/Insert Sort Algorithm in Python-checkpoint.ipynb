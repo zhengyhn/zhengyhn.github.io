{
 "cells": [
  {
   "cell_type": "markdown",
   "metadata": {},
   "source": [
    "最近在看《算法导论》，前面讲到插入排序，我第一反应，忘了这个算法是怎么样的，果然还是不够熟悉，那就再练习几次。\n",
    "\n",
    "这个算法还是非常重要的，很多语言的库里面，sort函数的实现，当个数小于某个较小的数时，都会使用插入排序，那是因为插入排序在元素有序的情况下，时间复杂度是$O(n)$, 而快排是$O(n^2)$，在元素较少的情况下，列表有序的概率比较大，比如1个元素是100%, 2个元素是50%, 3个元素是$\\dfrac{1}{6}$，所以，在元素较少的情况下，使用插入排序来进行排序，速度是非常快的。\n",
    "\n",
    "遇到这个算法，就想起打牌就行了。一开始我们左手是没有牌的，拿到一张牌，放到左手，第二张，从后面往前面比较，直到找到一张比它小的牌或者到了最前面，然后插入那个位置。"
   ]
  },
  {
   "cell_type": "code",
   "execution_count": 5,
   "metadata": {},
   "outputs": [
    {
     "name": "stdout",
     "output_type": "stream",
     "text": [
      "[5, 2, 4, 6, 1, 3]\n",
      "[2, 5, 4, 6, 1, 3]\n",
      "[2, 4, 5, 6, 1, 3]\n",
      "[2, 4, 5, 6, 1, 3]\n",
      "[1, 2, 4, 5, 6, 3]\n",
      "[1, 2, 3, 4, 5, 6]\n"
     ]
    }
   ],
   "source": [
    "def insert_sort(arr):\n",
    "    for i in range(1, len(arr)):\n",
    "        j = i - 1\n",
    "        # 临时记下要插入的元素\n",
    "        temp = arr[i]\n",
    "        # 找到比它小的元素\n",
    "        while j >= 0 and arr[j] > temp:\n",
    "            arr[j + 1] = arr[j]\n",
    "            j -= 1\n",
    "        # 插入在比它小的元素的后面\n",
    "        arr[j + 1] = temp\n",
    "        print(arr)\n",
    "        \n",
    "arr = [5, 2, 4, 6, 1, 3]\n",
    "print(arr)\n",
    "insert_sort(arr)\n"
   ]
  },
  {
   "cell_type": "code",
   "execution_count": null,
   "metadata": {},
   "outputs": [],
   "source": []
  },
  {
   "cell_type": "code",
   "execution_count": null,
   "metadata": {},
   "outputs": [],
   "source": []
  }
 ],
 "metadata": {
  "front-matter": {
   "date": "2018-07-27",
   "slug": "Insert Sort Algorithm in Python",
   "subtitle": "Generic subtitle",
   "title": "Insert Sort Algorithm in Python"
  },
  "hugo-jupyter": {
   "render-to": "content/post/"
  },
  "kernelspec": {
   "display_name": "Python 3",
   "language": "python",
   "name": "python3"
  },
  "language_info": {
   "codemirror_mode": {
    "name": "ipython",
    "version": 3
   },
   "file_extension": ".py",
   "mimetype": "text/x-python",
   "name": "python",
   "nbconvert_exporter": "python",
   "pygments_lexer": "ipython3",
   "version": "3.6.5"
  }
 },
 "nbformat": 4,
 "nbformat_minor": 2
}
