{
 "cells": [
  {
   "cell_type": "markdown",
   "metadata": {},
   "source": [
    "求最长公共子序列的长度，是线性动态规划最基础的内容。现在我自己手写并理解两种实现算法，做此笔记。\n",
    "\n",
    "## 暴力算法\n",
    "\n",
    "思路是，双重循环遍历2个数组，当发现2个元素相等时，递归地去找各自数组后面的子序列的最长公共子序列的长度，再加1就是当前最长的公共子序列的长度，然后取最大值。"
   ]
  },
  {
   "cell_type": "code",
   "execution_count": 30,
   "metadata": {},
   "outputs": [],
   "source": [
    "import random\n",
    "\n",
    "def lcs_recursive(arr1, arr2, left, right):\n",
    "    if left >= len(arr1) or right >= len(arr2):\n",
    "        return 0\n",
    "    \n",
    "    max_len = 0\n",
    "    for i in range(left, len(arr1)):\n",
    "        for j in range(right, len(arr2)):\n",
    "            if arr1[i] == arr2[j]:\n",
    "                length = lcs_recursive(arr1, arr2, i + 1, j + 1)\n",
    "                max_len = max(max_len, length + 1)\n",
    "    return max_len\n",
    "\n",
    "def lcs_bruteforce(arr1, arr2):\n",
    "    return lcs_recursive(arr1, arr2, 0, 0)"
   ]
  },
  {
   "cell_type": "markdown",
   "metadata": {},
   "source": [
    "## 动态规划\n",
    "\n",
    "思路是，维护一个二维数组，记录两个下标的当前状态，最长公共子序列的长度。"
   ]
  },
  {
   "cell_type": "code",
   "execution_count": 31,
   "metadata": {},
   "outputs": [],
   "source": [
    "def lcs_dp(arr1, arr2):\n",
    "    dp = [[0 for j in range(len(arr2) + 1)] for i in range(len(arr1) + 1)]\n",
    "    for i in range(len(arr1) - 1, -1, -1):\n",
    "        for j in range(len(arr2) - 1, -1, -1):\n",
    "            if arr1[i] == arr2[j]:\n",
    "                dp[i][j] = dp[i + 1][j + 1] + 1\n",
    "            else:\n",
    "                dp[i][j] = max(dp[i][j + 1], dp[i + 1][j])\n",
    "    return dp[0][0]"
   ]
  },
  {
   "cell_type": "markdown",
   "metadata": {},
   "source": [
    "## 测试\n",
    "\n",
    "下面来测试一下:"
   ]
  },
  {
   "cell_type": "code",
   "execution_count": 32,
   "metadata": {},
   "outputs": [
    {
     "name": "stdout",
     "output_type": "stream",
     "text": [
      "3\n",
      "3\n"
     ]
    }
   ],
   "source": [
    "arr1 = [3, 0, 2, 1, 4]\n",
    "arr2 = [0, 1, 2, 3, 4]\n",
    "print(lcs_bruteforce(arr1, arr2))\n",
    "print(lcs_dp(arr1, arr2))\n",
    "\n",
    "\n",
    "for i in range(0, 10):\n",
    "    arr1 = [random.randint(0, 9) for i in range(20)]\n",
    "    arr2 = [random.randint(0, 9) for i in range(20)]\n",
    "    result1 = lcs_bruteforce(arr1, arr2)\n",
    "    result2 = lcs_dp(arr1, arr2)\n",
    "    if result1 != result2:\n",
    "        print(result1, result2)"
   ]
  },
  {
   "cell_type": "markdown",
   "metadata": {},
   "source": [
    "再做一个性能测试:"
   ]
  },
  {
   "cell_type": "code",
   "execution_count": 29,
   "metadata": {},
   "outputs": [
    {
     "name": "stdout",
     "output_type": "stream",
     "text": [
      "12.163799556001322\n",
      "0.0012101709944545291\n"
     ]
    }
   ],
   "source": [
    "import timeit\n",
    "import random\n",
    "\n",
    "def test_lcs_bruteforce():\n",
    "    length = 30\n",
    "    arr1 = [random.randint(0, 9) for i in range(length)]\n",
    "    arr2 = [random.randint(0, 9) for i in range(length)]\n",
    "    lcs_bruteforce(arr1, arr2)\n",
    "    \n",
    "def test_lcs_dp():\n",
    "    length = 30\n",
    "    arr1 = [random.randint(0, 9) for i in range(length)]\n",
    "    arr2 = [random.randint(0, 9) for i in range(length)]\n",
    "    lcs_dp(arr1, arr2)\n",
    "    \n",
    "print(timeit.timeit(test_lcs_bruteforce, number=2, setup='from __main__ import test_lcs_bruteforce'))\n",
    "print(timeit.timeit(test_lcs_dp, number=2, setup='from __main__ import test_lcs_dp'))"
   ]
  },
  {
   "cell_type": "code",
   "execution_count": null,
   "metadata": {},
   "outputs": [],
   "source": [
    "动态规划的速度比暴力算法快太多了！"
   ]
  }
 ],
 "metadata": {
  "front-matter": {
   "date": "2018-10-31",
   "slug": "longest-common-subsequence",
   "subtitle": "Generic subtitle",
   "title": "Longest common Subsequence"
  },
  "hugo-jupyter": {
   "render-to": "content/post/"
  },
  "kernelspec": {
   "display_name": "Python 3",
   "language": "python",
   "name": "python3"
  },
  "language_info": {
   "codemirror_mode": {
    "name": "ipython",
    "version": 3
   },
   "file_extension": ".py",
   "mimetype": "text/x-python",
   "name": "python",
   "nbconvert_exporter": "python",
   "pygments_lexer": "ipython3",
   "version": "3.6.5"
  }
 },
 "nbformat": 4,
 "nbformat_minor": 2
}
