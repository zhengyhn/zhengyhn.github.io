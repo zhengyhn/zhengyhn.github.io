{
 "cells": [
  {
   "cell_type": "markdown",
   "metadata": {},
   "source": [
    "最近在看《编程珠玑》，有一道题我很感兴趣。\n",
    "\n",
    "编写程序，在O(n)时间内从数组 x\\[0.. n-1\\]中找出第k个最小的元素。\n",
    "\n",
    "我第一反应，就是利用快排的思想，不断地缩小查找空间，平均可以实现O(n)的时间复杂度，但是想了一下，最坏的情况下(倒序)，需要$O(n^2)$的时间复杂度。难道还有更快的方法吗？去看了一下答案，发现答案就是我想到的这种方法。出于好奇，我就去网上搜了一下，原来这个问题很多人都研究过，并且有好几种方法，而我想到的这个方法，就是快排的作者发明的，叫做quick select，而这种找出第k个最小元素的算法，也叫select算法，利用这些高效的算法来找出中位数，将是初中高中学数学的时候无法想象的，原来可以这样做！\n",
    "\n",
    "## Quick Select算法\n",
    "\n",
    "利用快排的思想，随机取一个参照元素，将所有比它小的元素放在左边，比它大的元素放在右边，这个时候看参照元素的下标，如果比k要大，说明我们要找的第k个元素在左边，否则就在右边。这个时候，如果运气好，我们就缩小了很大的搜索范围了，再继续以这种方法找下去，直到找到这个元素为止。\n",
    "\n",
    "看代码："
   ]
  },
  {
   "cell_type": "code",
   "execution_count": 1,
   "metadata": {
    "scrolled": true
   },
   "outputs": [
    {
     "name": "stdout",
     "output_type": "stream",
     "text": [
      "[2, 7, 7, 4, 4, 3, 2, 6, 9, 6]\n",
      "3\n"
     ]
    }
   ],
   "source": [
    "import random\n",
    "\n",
    "def quick_select(arr, k):\n",
    "    left = 0\n",
    "    right = len(arr) - 1\n",
    "    while True:\n",
    "        if left >= right:\n",
    "            return arr[left]\n",
    "        pivot_index = random.randint(left, right)\n",
    "        arr[right], arr[pivot_index] = arr[pivot_index], arr[right]\n",
    "        store_index = left\n",
    "        for i in range(left, right):\n",
    "            if arr[i] < arr[right]:\n",
    "                arr[store_index], arr[i] = arr[i], arr[store_index]\n",
    "                store_index += 1\n",
    "        arr[right], arr[store_index] = arr[store_index], arr[right]\n",
    "        if k - 1 == store_index:\n",
    "            return arr[store_index]\n",
    "        elif k - 1 < store_index:\n",
    "            right = store_index - 1\n",
    "        else:\n",
    "            left = store_index + 1\n",
    "    \n",
    "arr = [random.randint(0, 9) for i in range(0, 10)]\n",
    "print(arr)\n",
    "print(quick_select(arr, 3))\n"
   ]
  },
  {
   "cell_type": "markdown",
   "metadata": {},
   "source": [
    "这里，随机生成了10个数字来做测试，看了一下，程序是正确的。\n",
    "\n",
    "容易得出，平均时间复杂度是$O(n)$，最坏情况下时间复杂度是$O(n^2)$。\n",
    "\n",
    "## Heap Select算法\n",
    "\n",
    "还有一种想法是，利用堆排序的思想，先用前k个元素构建一个大根堆，这个时候，堆顶元素是前k个元素里面最大的。然后，对于剩下的每个元素，如果比堆顶元素要小，就将它与堆顶元素交换，重新调整堆，调整后的前k个元素是目前最小的k个元素，一直这样操作到最后，前k个元素就是所有元素中最小的k个元素，由于堆顶的元素是最大的元素，所以堆顶的元素就是第k个最小元素。\n",
    "\n",
    "看代码："
   ]
  },
  {
   "cell_type": "code",
   "execution_count": 2,
   "metadata": {
    "scrolled": true
   },
   "outputs": [
    {
     "name": "stdout",
     "output_type": "stream",
     "text": [
      "[8, 6, 4, 9, 1, 1, 8, 4, 4, 7]\n",
      "4\n"
     ]
    }
   ],
   "source": [
    "import random\n",
    "\n",
    "def heap_select(arr, k):\n",
    "    build_heap(arr, k)\n",
    "    \n",
    "    for i in range(k, len(arr)):\n",
    "        if arr[i] < arr[0]:\n",
    "            arr[0], arr[i] = arr[i], arr[0]\n",
    "            ajust_heap(arr, 0, k - 1)\n",
    "    return arr[0]\n",
    "\n",
    "def build_heap(arr, k):\n",
    "    start = (k - 2) // 2\n",
    "    while start >= 0:\n",
    "        ajust_heap(arr, start, k - 1)\n",
    "        start -= 1\n",
    "\n",
    "def ajust_heap(arr, root, tail):\n",
    "    while root * 2 + 1 <= tail:\n",
    "        left_child = root * 2 + 1\n",
    "        to_swap = root\n",
    "        if left_child <= tail and arr[to_swap] < arr[left_child]:\n",
    "            to_swap = left_child\n",
    "        right_child = left_child + 1\n",
    "        if right_child <= tail and arr[to_swap] < arr[right_child]:\n",
    "            to_swap = right_child\n",
    "        if to_swap != root:\n",
    "            arr[to_swap], arr[root] = arr[root], arr[to_swap]\n",
    "            root = to_swap\n",
    "        else:\n",
    "            return\n",
    "\n",
    "arr = [random.randint(0, 9) for i in range(0, 10)]\n",
    "print(arr)\n",
    "print(heap_select(arr, 3))"
   ]
  },
  {
   "cell_type": "markdown",
   "metadata": {},
   "source": [
    "从这里可以看出来，堆这种数据结构是非常非常重要的，难怪面试的时候经常问这个。\n",
    "\n",
    "容易得出，时间复杂度是$O(nlogk)$\n",
    "\n",
    "\n",
    "## BFPRT算法\n",
    "\n",
    "还有一种没见过的算法，据说时间复杂度可以达到$O(n)$，是由5个人想出来的，所以就BFPRT算法，另外一个名字叫median of medians 。\n",
    "\n",
    "它的思想大概是这样的，将整个列表分为5个一组，对于每组，用插入排序或其他的方法快速求出来中位数，再将这些中位数作为一个列表再求出它们的中位数，最后找到一个参照元素，这个时候，跟quick select的思想一样，将比这个参照元素小的放在它左边，大的放在它右边，一样缩小查找范围，直到找出为止。这种思想的核心是，通过中位数的中位数来找到参照元素，不会像quick select那样，运气不好的时候会退化到$O(n^2)$，而是最坏情况下也保持$O(n)$的时间复杂度。\n",
    "\n",
    "看代码："
   ]
  },
  {
   "cell_type": "code",
   "execution_count": 3,
   "metadata": {},
   "outputs": [
    {
     "name": "stdout",
     "output_type": "stream",
     "text": [
      "[2, 3, 8, 7, 5, 2, 5, 7, 9, 6]\n",
      "8\n"
     ]
    }
   ],
   "source": [
    "import random\n",
    "\n",
    "def bfprt_select(arr, k):\n",
    "    idx = select(arr, 0, len(arr) - 1, k)\n",
    "    return arr[idx]\n",
    "\n",
    "def select(arr, left, right, k):\n",
    "    while True:\n",
    "        if left >= right:\n",
    "            return left\n",
    "        pivot_index = get_pivot(arr, left, right)\n",
    "        arr[right], arr[pivot_index] = arr[pivot_index], arr[right]\n",
    "        store_index = left\n",
    "        for i in range(left, right):\n",
    "            if arr[i] < arr[right]:\n",
    "                arr[i], arr[store_index] = arr[store_index], arr[i]\n",
    "                store_index += 1\n",
    "        arr[right], arr[store_index] = arr[store_index], arr[right]\n",
    "        if k - 1 == store_index:\n",
    "            return store_index\n",
    "        elif k - 1 > store_index:\n",
    "            left = store_index + 1\n",
    "        else:\n",
    "            right = store_index - 1\n",
    "        \n",
    "def get_pivot(arr, left, right):\n",
    "    if right - left < 5:\n",
    "        return select5(arr, left, right)\n",
    "    for i in range(left, right - 4, 5):\n",
    "        sub_right = i + 4\n",
    "        if sub_right > right:\n",
    "            sub_right = right\n",
    "        median_index = select5(arr, i, sub_right)\n",
    "        arr[median_index], arr[left + (i - left) // 5] = arr[left + (i - left) // 5], arr[median_index]\n",
    "    return select(arr, left, left + (right - left) // 5, (right - left) // 10 + 1)\n",
    "    \n",
    "def select5(arr, left, right):\n",
    "    for i in range(left + 1, right + 1):\n",
    "        temp = arr[i]\n",
    "        j = i - 1\n",
    "        while j >= left and arr[j] > temp:\n",
    "            arr[j + 1] = arr[j]\n",
    "            j -= 1\n",
    "        arr[j + 1] = temp\n",
    "    return left + (right - left) // 2\n",
    "        \n",
    "arr = [random.randint(0, 9) for i in range(0, 10)]\n",
    "print(arr)\n",
    "print(bfprt_select(arr, 9))\n"
   ]
  },
  {
   "cell_type": "markdown",
   "metadata": {},
   "source": [
    "代码比较多，随机生成一些数据，看起来是正确的。\n",
    "\n",
    "为了验证程序没有问题，用3个算法都查找一次，如果3个结果都对，那程序不正确的概率接近于0了。测试一下："
   ]
  },
  {
   "cell_type": "code",
   "execution_count": 4,
   "metadata": {},
   "outputs": [],
   "source": [
    "for i in range(0, 1000):\n",
    "    arr = [random.randint(0, 1000) for i in range(0, 1000)]\n",
    "    k = random.randint(1, 999)\n",
    "    quick_ret = quick_select(arr[:], k)\n",
    "    heap_ret = heap_select(arr[:], k)\n",
    "    bfprt_ret = bfprt_select(arr[:], k)\n",
    "    if quick_ret != heap_ret or heap_ret != bfprt_ret:\n",
    "        print(arr, k, quick_ret, heap_ret, bfprt_ret)"
   ]
  },
  {
   "cell_type": "markdown",
   "metadata": {},
   "source": [
    "没有任何输出，说明这3个程序99.99%的概率是对的。现在来看一下对3个算法做性能测试：\n"
   ]
  },
  {
   "cell_type": "code",
   "execution_count": 7,
   "metadata": {},
   "outputs": [
    {
     "name": "stdout",
     "output_type": "stream",
     "text": [
      "0.26961762097198516\n",
      "0.35226804204285145\n",
      "0.5465565109625459\n"
     ]
    }
   ],
   "source": [
    "import timeit\n",
    "\n",
    "N = 10000\n",
    "def test_quick_select():\n",
    "    arr = [random.randint(0, N) for i in range(0, N)]\n",
    "    k = random.randint(1, N - 1)\n",
    "    quick_select(arr, k)\n",
    "\n",
    "def test_heap_select():\n",
    "    arr = [random.randint(0, N) for i in range(0, N)]\n",
    "    k = random.randint(1, N - 1)\n",
    "    heap_select(arr, k)\n",
    "    \n",
    "def test_bfprt_select():\n",
    "    arr = [random.randint(0, N) for i in range(0, N)]\n",
    "    k = random.randint(1, N - 1)\n",
    "    bfprt_select(arr, k)\n",
    "    \n",
    "\n",
    "print(timeit.timeit('test_quick_select()', number=10, setup='from __main__ import test_quick_select'))\n",
    "print(timeit.timeit('test_heap_select()', number=10, setup='from __main__ import test_heap_select'))\n",
    "print(timeit.timeit('test_bfprt_select()', number=10, setup='from __main__ import test_bfprt_select'))"
   ]
  },
  {
   "cell_type": "markdown",
   "metadata": {},
   "source": [
    "看到这个结果，我惊呆了，bfprt算法居然比quick select慢！而且比heap select也慢！太不可思议了！说好的$O(n)$呢？这真是打脸了！\n",
    "\n",
    "查了一些资料，的确是，在现实的数据中，quick select是最快的，很多时候，我们运气都没那么差，选到的参照元素都能较快缩小搜索范围。而一般编程语言的标准库实现，会使用quick select和bfprt算法混合的方式，叫做[inroselect](https://en.wikipedia.org/wiki/Introselect)算法，C++的[std::nth_element](https://en.cppreference.com/w/cpp/algorithm/nth_element)就是这样实现的。\n",
    "\n",
    "总结一下，快排的思想非常有用，堆这种数据结构非常有用，实现方式也很优雅，而学习并实现了bfprt算法，对我个人算法能力的提高帮助很大！\n",
    "\n",
    "## 参考链接\n",
    "- [std::nth_element](https://en.cppreference.com/w/cpp/algorithm/nth_element)\n",
    "- [inroselect](https://en.wikipedia.org/wiki/Introselect)\n",
    "- [Median of Medians](https://en.wikipedia.org/wiki/Median_of_medians)\n",
    "- [Quickselect](https://en.wikipedia.org/wiki/Quickselect)\n",
    "- [Select算法](https://www.cnblogs.com/whensean/p/selection.html)"
   ]
  }
 ],
 "metadata": {
  "front-matter": {
   "date": "2018-10-03",
   "slug": "Learning Select Algorithms",
   "subtitle": "Generic subtitle",
   "title": "Learning Select Algorithms"
  },
  "hugo-jupyter": {
   "render-to": "content/post/"
  },
  "kernelspec": {
   "display_name": "Python 3",
   "language": "python",
   "name": "python3"
  },
  "language_info": {
   "codemirror_mode": {
    "name": "ipython",
    "version": 3
   },
   "file_extension": ".py",
   "mimetype": "text/x-python",
   "name": "python",
   "nbconvert_exporter": "python",
   "pygments_lexer": "ipython3",
   "version": "3.6.5"
  }
 },
 "nbformat": 4,
 "nbformat_minor": 2
}
