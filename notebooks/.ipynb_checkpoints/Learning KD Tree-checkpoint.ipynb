{
 "cells": [
  {
   "cell_type": "markdown",
   "metadata": {},
   "source": [
    "最近在学习KD树，研究了一天，终于是搞懂了！把自己实现的代码记录下来。\n",
    "\n",
    "KNN的算法思想非常简单，但是暴力的计算距离，计算量非常大，而KD树这种数据结构的使用，可以将KNN的时间复杂度从$$O(KN)$$降低到$$O(KlogN)$$，这也是我非常感兴趣的一点。\n",
    "\n",
    "学习的过程中，发现还有一种叫ball树，是为了解决KD树在高维时计算慢的问题，学无止境啊，这个就得后面慢慢研究了。\n",
    "\n",
    "原理就不记录了，可以参考[这个链接](https://www.joinquant.com/post/2627), 下面是我实现的代码:"
   ]
  },
  {
   "cell_type": "code",
   "execution_count": 102,
   "metadata": {},
   "outputs": [
    {
     "name": "stdout",
     "output_type": "stream",
     "text": [
      "[0.12317314697429538, 0.13892455212771893, 0.15577806811779737]\n",
      "[0.13220502203330398, 0.10243203630670905, 0.13061751704663038]\n"
     ]
    }
   ],
   "source": [
    "import numpy as np\n",
    "import timeit\n",
    "import matplotlib.pyplot as plt\n",
    "%matplotlib notebook\n",
    "\n",
    "\n",
    "class Node:\n",
    "    def __init__(self, val=None, left=None, right=None, split_dim=None):\n",
    "        # 节点值\n",
    "        self.val = val\n",
    "        # 左孩子\n",
    "        self.left = left\n",
    "        # 右孩子\n",
    "        self.right = right\n",
    "        # 切分维度\n",
    "        self.split_dim = split_dim\n",
    "\n",
    "\n",
    "class KDTree:\n",
    "    def __init__(self, data_set):\n",
    "        self.root = self._create_node(data_set)\n",
    "\n",
    "    def _create_node(self, data_set=None):\n",
    "        # 递归停止条件\n",
    "        if len(data_set) == 0:\n",
    "            return None\n",
    "        # 目前数据集选取切分的维度，使用方差最大的维度做为切分维度\n",
    "        split_dim = self._get_split_dim(data_set)\n",
    "\n",
    "        # 在切分的维度上排序，选取中间的点进行切分\n",
    "        data_set.sort(key=lambda x: x[split_dim])\n",
    "        mid = len(data_set) // 2\n",
    "        val = data_set[mid]\n",
    "        # 递归创建左子树和右子树\n",
    "        left = self._create_node(data_set[:mid])\n",
    "        right = self._create_node(data_set[mid + 1:])\n",
    "\n",
    "        return Node(val=val, left=left, right=right, split_dim=split_dim)\n",
    "\n",
    "    def _get_split_dim(self, data_set):\n",
    "        \"\"\"\n",
    "        选择方差最大的维度，因为这样划分更均匀\n",
    "        \"\"\"\n",
    "        return np.argmax(np.var(data_set, axis=0))\n",
    "\n",
    "    def knn(self, target=None, k=3):\n",
    "        # 记录k个近邻\n",
    "        # (点，与目标点的距离)\n",
    "        nearests = [(self.root.val, float(\"inf\"))]\n",
    "        stack = []\n",
    "        # 向下搜索目标点，并记录搜索的路径到stack\n",
    "        # 经过的点，记录到k近邻列表\n",
    "        self._search_down(root=self.root, stack=stack, nearests=nearests, target=target, k=k)\n",
    "        # 回溯查找\n",
    "        while len(stack) > 0:\n",
    "            node = stack.pop()\n",
    "            dist = target[node.split_dim] - node.val[node.split_dim]\n",
    "            # 如果目标点与分隔超平面的距离大于目前k个近邻点与目标点的最大距离，\n",
    "            # 那这个分隔点的右子树就不需要查找了，因为右子树的距离更远\n",
    "            if abs(dist) > nearests[len(nearests) - 1][1]:\n",
    "                continue\n",
    "            # dist > 0, 则在该切分维度上，目标点大于切分点，说明目标点在切分点的右子树上，所以应该往左子树寻找，看下有没有离目标点更近的\n",
    "            if dist > 0:\n",
    "                self._search_down(root=node.left, stack=stack, nearests=nearests, target=target, k=k)\n",
    "            else:\n",
    "                self._search_down(root=node.right, stack=stack, nearests=nearests, target=target, k=k)\n",
    "        return nearests\n",
    "\n",
    "    def _search_down(self, root=None, stack=[], nearests=[], target=None, k=0):\n",
    "        node = root\n",
    "        while node:\n",
    "            # 记录路径\n",
    "            stack.append(node)\n",
    "            # 计算点与目标点的距离\n",
    "            dist = self._get_dist(node.val, target)\n",
    "            # 类似插入排序更新nearests\n",
    "            self._update_nearests(nearests=nearests, point=node.val, dist=dist, k=k)\n",
    "            # 如果目标点在切分维度上的值小于该点在该维度上的值，往左子树搜索\n",
    "            if target[node.split_dim] < node.val[node.split_dim]:\n",
    "                node = node.left\n",
    "            else:\n",
    "                node = node.right\n",
    "\n",
    "    def _update_nearests(self, nearests=[], point=None, dist=0, k=0):\n",
    "        size = len(nearests)\n",
    "        tail = nearests[size - 1]\n",
    "        # 如果距离比nearests里面最大的值还要大，而且nearests已经有k个数了，就没必要再加进去了\n",
    "        if dist > tail[1] and size >= k:\n",
    "            return\n",
    "        # 如果nearests还不够k个数，就往后面加一个\n",
    "        if size < k and tail[1] != float(\"inf\"):\n",
    "            nearests.append((point, float(\"inf\")))\n",
    "        for i in range(len(nearests) - 1, -1, -1):\n",
    "            # 找到插入的位置\n",
    "            if dist > nearests[i - 1][1] or i == 0:\n",
    "                nearests[i] = (point, dist)\n",
    "                break\n",
    "            else:\n",
    "                nearests[i] = nearests[i - 1]\n",
    "\n",
    "    def _get_dist(self, left, right):\n",
    "        # L2欧拉距离\n",
    "        return np.sqrt(np.sum(np.power(np.array(left) - np.array(right), 2)))\n",
    "\n"
   ]
  },
  {
   "cell_type": "markdown",
   "metadata": {},
   "source": [
    "现在来写一个暴力计算的KNN算法，直接遍历所有数据，计算与目标点的距离: "
   ]
  },
  {
   "cell_type": "code",
   "execution_count": 106,
   "metadata": {},
   "outputs": [],
   "source": [
    "def l2_dist(left, right):\n",
    "    return np.sqrt(np.sum(np.power(np.array(left) - np.array(right), 2)))\n",
    "\n",
    "def update_nearests(nearests=[], point=None, dist=0, k=0):\n",
    "    size = len(nearests)\n",
    "    tail = nearests[size - 1]\n",
    "    if dist > tail[1]:\n",
    "        return\n",
    "    if k > size and tail[1] != float(\"inf\"):\n",
    "        nearests.append((point, float(\"inf\")))\n",
    "    for i in range(len(nearests) - 1, -1, -1):\n",
    "        if dist > nearests[i - 1][1] or i == 0:\n",
    "            nearests[i] = (point, dist)\n",
    "            break\n",
    "        else:\n",
    "            nearests[i] = nearests[i - 1]\n",
    "\n",
    "def simple_knn(data_set=[], target=None, k=1):\n",
    "    nearests = [(None, float('inf'))]\n",
    "    for item in data_set:\n",
    "        dist = l2_dist(target, item)\n",
    "        update_nearests(nearests=nearests, point=item, dist=dist, k=k)\n",
    "    return nearests\n"
   ]
  },
  {
   "cell_type": "markdown",
   "metadata": {},
   "source": [
    "然后，我做了一下性能测试，看下两种算法的性能比较:"
   ]
  },
  {
   "cell_type": "code",
   "execution_count": 109,
   "metadata": {},
   "outputs": [
    {
     "name": "stdout",
     "output_type": "stream",
     "text": [
      "[0.0678678872063756, 0.05296829389408231, 0.05738678993657231]\n",
      "[0.09776927810162306, 0.06834738329052925, 0.063218685798347]\n"
     ]
    }
   ],
   "source": [
    "\n",
    "def kdtree_knn():\n",
    "    tree = KDTree(data_set)\n",
    "    for i in range(0, 100):\n",
    "        target = np.random.normal(loc=10, scale=10, size=5).tolist()\n",
    "        tree.knn(target=target, k=3)\n",
    "\n",
    "def brute_force_knn():\n",
    "    for i in range(0, 100):\n",
    "        target = np.random.normal(loc=10, scale=10, size=5).tolist()\n",
    "        simple_knn(data_set=data_set, target=target, k=3)      \n",
    "\n",
    "# plt.axis((0, 5, 0, 5))\n",
    "# plt.xlabel('x',size=15)\n",
    "# plt.ylabel('y', size=15)\n",
    "# data_array = np.array(data_set)\n",
    "# plt.scatter(data_array[:,0], data_array[:,1])\n",
    "# plt.scatter(target[0], target[1], marker='*')\n",
    "\n",
    "data_set = np.random.normal(loc=10, scale=10, size=200).reshape((-1, 5)).tolist()\n",
    "\n",
    "print(timeit.repeat('brute_force_knn()', number=1, setup=\"from __main__ import brute_force_knn\"))\n",
    "print(timeit.repeat('kdtree_knn()', number=1, setup=\"from __main__ import kdtree_knn\"))"
   ]
  },
  {
   "cell_type": "markdown",
   "metadata": {},
   "source": [
    "可以看出来，在数据量比较小的时候，上面的代码是40个样本，5维，暴力算法还是比KD树要快的。\n",
    "现在来看一下数据量比较大的时候，"
   ]
  },
  {
   "cell_type": "code",
   "execution_count": 110,
   "metadata": {},
   "outputs": [
    {
     "name": "stdout",
     "output_type": "stream",
     "text": [
      "[2.694329333025962, 2.5767038417980075, 2.4785216078162193]\n",
      "[0.46591822896152735, 0.40071333991363645, 0.40707155875861645]\n"
     ]
    }
   ],
   "source": [
    "\n",
    "data_set = np.random.normal(loc=10, scale=10, size=10000).reshape((-1, 5)).tolist()\n",
    "\n",
    "print(timeit.repeat('brute_force_knn()', number=1, setup=\"from __main__ import brute_force_knn\"))\n",
    "print(timeit.repeat('kdtree_knn()', number=1, setup=\"from __main__ import kdtree_knn\"))"
   ]
  },
  {
   "cell_type": "code",
   "execution_count": null,
   "metadata": {},
   "outputs": [],
   "source": [
    "当样本数量达到2000个的时候，暴力算法基本要2.5s左右才能跑完，而KD树只需要0.45s左右。"
   ]
  },
  {
   "cell_type": "markdown",
   "metadata": {},
   "source": [
    "### 参考链接\n",
    "- [kd 树算法之思路篇](https://www.joinquant.com/post/2627)\n",
    "- [kd 树算法之详细篇](https://www.joinquant.com/post/2843)\n",
    "- [一只兔子帮你理解 kNN](https://www.joinquant.com/post/2227?f=study&m=math)\n",
    "- [基于kd树的KNN算法的实现](https://www.jianshu.com/p/521f00393504)"
   ]
  }
 ],
 "metadata": {
  "front-matter": {
   "date": "2018-08-18",
   "slug": "Learning KD Tree",
   "subtitle": "Generic subtitle",
   "title": "Learning KD Tree"
  },
  "hugo-jupyter": {
   "render-to": "content/post/"
  },
  "kernelspec": {
   "display_name": "Python 3",
   "language": "python",
   "name": "python3"
  },
  "language_info": {
   "codemirror_mode": {
    "name": "ipython",
    "version": 3
   },
   "file_extension": ".py",
   "mimetype": "text/x-python",
   "name": "python",
   "nbconvert_exporter": "python",
   "pygments_lexer": "ipython3",
   "version": "3.6.5"
  }
 },
 "nbformat": 4,
 "nbformat_minor": 2
}
