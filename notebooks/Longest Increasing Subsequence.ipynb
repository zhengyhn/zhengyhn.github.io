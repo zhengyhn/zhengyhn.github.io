{
 "cells": [
  {
   "cell_type": "markdown",
   "metadata": {},
   "source": [
    "求最长递增子序列的长度也是动态规划里面的基础问题。记得当时大学的时候碰到这个问题，想破了脑袋也想不出来非暴力的解法，现在写起动态规划的算法还是比较得心应手的，证明这几年我的确是进步了。\n",
    "\n",
    "下面重新复习这个问题，作此笔记。\n",
    "\n",
    "## 暴力算法\n",
    "\n",
    "思路是，遍历每个元素，往后面找到一个比它大的数，递归地调用，计算出来当前的最长递增子序列的长度，再取每个元素计算出来的长度取一个最大值。时间得杂度为$O(n!)$"
   ]
  },
  {
   "cell_type": "code",
   "execution_count": 47,
   "metadata": {},
   "outputs": [],
   "source": [
    "import random\n",
    "\n",
    "def lis_recursive(arr, i):\n",
    "    if i == len(arr) - 1:\n",
    "        return 1\n",
    "    max_len = 0\n",
    "    for j in range(i + 1, len(arr)):\n",
    "        if arr[j] > arr[i]:\n",
    "            length = lis_recursive(arr, j)\n",
    "            if length > max_len:\n",
    "                max_len = length\n",
    "    return max_len + 1\n",
    "\n",
    "def lis_bruteforce(arr):\n",
    "    max_len = 0\n",
    "    for i in range(len(arr)):\n",
    "        length = lis_recursive(arr, i)\n",
    "        if length > max_len:\n",
    "            max_len = length\n",
    "    return max_len\n"
   ]
  },
  {
   "cell_type": "markdown",
   "metadata": {},
   "source": [
    "## 动态规划\n",
    "\n",
    "思路是，将上面的递归算法的递归每一步，用一个数组缓存起来结果，以避免重复计算，最后取最大的那个。时间复杂度为$O(n^2)$"
   ]
  },
  {
   "cell_type": "code",
   "execution_count": 48,
   "metadata": {},
   "outputs": [],
   "source": [
    "def lis_dp(arr):\n",
    "    max_len = 0\n",
    "    dp = [1 for j in range(0, len(arr))]\n",
    "    for i in range(len(arr) - 2, -1, -1):\n",
    "        for j in range(i + 1, len(arr)):\n",
    "            if arr[i] < arr[j]:\n",
    "                dp[i] = max(dp[j] + 1, dp[i])\n",
    "        max_len = max(max_len, dp[i])\n",
    "    return max_len"
   ]
  },
  {
   "cell_type": "markdown",
   "metadata": {},
   "source": [
    "## 二分查找法\n",
    "\n",
    "这是一个非常巧妙的方法，基于的思想是，为了得到最长的递增子序列的长度，那当前元素肯定是越小越好，因为这样子后面才可以有更多的元素跟在后面。\n",
    "\n",
    "用一个数组min_ends记录在i位置，当最长递增子序列长度为i + 1时，末尾的元素最小的那个，由于递增是有序的，所以可以用二分查找法来找到插入的位置，整个算法的时间复杂度为$O(nlogn)$"
   ]
  },
  {
   "cell_type": "code",
   "execution_count": 73,
   "metadata": {},
   "outputs": [],
   "source": [
    "def bin_search(arr, start, end, key):\n",
    "    while start <= end:\n",
    "        mid = (start + end) // 2\n",
    "        if key <= arr[mid]:\n",
    "            end = mid - 1\n",
    "        else:\n",
    "            start = mid + 1\n",
    "    return start\n",
    "\n",
    "def lis_bin_search(arr):\n",
    "    min_ends = [0 for i in range(len(arr))]\n",
    "    min_ends[0] = arr[0]\n",
    "    length = 1\n",
    "    for i in range(1, len(arr)):\n",
    "        pos = bin_search(min_ends, 0, length - 1, arr[i])\n",
    "        min_ends[pos] = arr[i]\n",
    "        if pos == length:\n",
    "            length += 1\n",
    "    return length"
   ]
  },
  {
   "cell_type": "markdown",
   "metadata": {},
   "source": [
    "## 测试\n",
    "\n",
    "做一个简单的测试，然后随机生成一些数据用于测试。"
   ]
  },
  {
   "cell_type": "code",
   "execution_count": 82,
   "metadata": {},
   "outputs": [
    {
     "name": "stdout",
     "output_type": "stream",
     "text": [
      "3\n",
      "3\n",
      "3\n"
     ]
    }
   ],
   "source": [
    "\n",
    "arr = [3, 0, 2, 1, 4]\n",
    "print(lis_bruteforce(arr))\n",
    "print(lis_dp(arr))\n",
    "print(lis_bin_search(arr))\n",
    "\n",
    "for i in range(0, 100):\n",
    "    arr = [random.randint(0, 9) for i in range(10)]\n",
    "    result1 = lis_bruteforce(arr)\n",
    "    result2 = lis_dp(arr)\n",
    "    result3 = lis_bin_search(arr)\n",
    "    if result1 != result2 or result2 != result3:\n",
    "        print(result1, result2, result3)"
   ]
  },
  {
   "cell_type": "markdown",
   "metadata": {},
   "source": [
    "发现3个算法的结果是一致的。\n",
    "\n",
    "## 性能测试\n",
    "\n",
    "对3个算法做性能测试:"
   ]
  },
  {
   "cell_type": "code",
   "execution_count": 85,
   "metadata": {},
   "outputs": [
    {
     "name": "stdout",
     "output_type": "stream",
     "text": [
      "2.092267832995276\n",
      "0.005408962009823881\n",
      "0.0011912080080946907\n"
     ]
    }
   ],
   "source": [
    "import timeit\n",
    "import random\n",
    "\n",
    "def test_lis_bruteforce():\n",
    "    length = random.randint(1, 100)\n",
    "    arr = [random.randint(0, 10) for i in range(length)]\n",
    "    lis_bruteforce(arr)\n",
    "    \n",
    "def test_lis_dp():\n",
    "    length = random.randint(1, 100)\n",
    "    arr = [random.randint(0, 10) for i in range(length)]\n",
    "    lis_dp(arr)\n",
    " \n",
    "def test_lis_bin_search():\n",
    "    length = random.randint(1, 100)\n",
    "    arr = [random.randint(0, 10) for i in range(length)]\n",
    "    lis_bin_search(arr)\n",
    "    \n",
    "print(timeit.timeit(test_lis_bruteforce, number=10, setup='from __main__ import test_lis_bruteforce'))\n",
    "print(timeit.timeit(test_lis_dp, number=10, setup='from __main__ import test_lis_dp'))\n",
    "print(timeit.timeit(test_lis_bin_search, number=10, setup='from __main__ import test_lis_bin_search'))"
   ]
  },
  {
   "cell_type": "markdown",
   "metadata": {},
   "source": [
    "可以看到暴力算法非常慢，动态规划算法要快个几百倍，而二分查找的算法更快！\n",
    "\n",
    "## 参考资料\n",
    "- [长递增子序列 O(NlogN)算法 ](https://www.felix021.com/blog/read.php?1587)\n",
    "- [leetcode](https://leetcode.com/problems/longest-increasing-subsequence/solution/)"
   ]
  },
  {
   "cell_type": "code",
   "execution_count": null,
   "metadata": {},
   "outputs": [],
   "source": []
  }
 ],
 "metadata": {
  "front-matter": {
   "date": "2018-10-29",
   "slug": "Longest Increasing Subsequence",
   "subtitle": "Generic subtitle",
   "title": "Longest Increasing Subsequence"
  },
  "hugo-jupyter": {
   "render-to": "content/post/"
  },
  "kernelspec": {
   "display_name": "Python 3",
   "language": "python",
   "name": "python3"
  },
  "language_info": {
   "codemirror_mode": {
    "name": "ipython",
    "version": 3
   },
   "file_extension": ".py",
   "mimetype": "text/x-python",
   "name": "python",
   "nbconvert_exporter": "python",
   "pygments_lexer": "ipython3",
   "version": "3.6.5"
  }
 },
 "nbformat": 4,
 "nbformat_minor": 2
}
