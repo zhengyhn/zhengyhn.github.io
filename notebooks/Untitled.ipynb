{
 "cells": [
  {
   "cell_type": "code",
   "execution_count": 34,
   "metadata": {},
   "outputs": [
    {
     "name": "stdout",
     "output_type": "stream",
     "text": [
      "[[ 1.  3.  5.  7.]\n",
      " [ 3.  9. 15. 21.]\n",
      " [ 5. 15. 25. 35.]\n",
      " [ 7. 21. 35. 49.]]\n",
      "[2 3]\n",
      "[3 3]\n",
      "[1 2 3 4]\n",
      "[1]\n",
      "[1 2 3 4]\n",
      "[1 3]\n"
     ]
    },
    {
     "data": {
      "text/plain": [
       "array([[ 0,  1,  2,  3,  4,  5],\n",
       "       [10, 11, 12, 13, 14, 15],\n",
       "       [20, 21, 22, 23, 24, 25],\n",
       "       [30, 31, 32, 33, 34, 35],\n",
       "       [40, 41, 42, 43, 44, 45],\n",
       "       [50, 51, 52, 53, 54, 55]])"
      ]
     },
     "execution_count": 34,
     "metadata": {},
     "output_type": "execute_result"
    }
   ],
   "source": [
    "import numpy as np\n",
    "\n",
    "def multi(x, y):\n",
    "    return (x + 1) * (y + 1)\n",
    "\n",
    "a = np.fromfunction(multi, (9, 9))\n",
    "b = a[0:-1:2, 0:-1:2]\n",
    "print(b)\n",
    "a = np.arange(1, 5)\n",
    "b = a[[1, 2]]\n",
    "print(b)\n",
    "b[0] = 3\n",
    "print(b)\n",
    "print(a)\n",
    "c = a[np.array([True, False, False, False])]\n",
    "print(c)\n",
    "c[0] = 2\n",
    "print(a)\n",
    "c = a[[True, False, True, False]]\n",
    "print(c)\n",
    "a[a > 2]\n",
    "np.arange(0, 60, 10).reshape(-1, 1) + np.arange(0, 6)"
   ]
  }
 ],
 "metadata": {
  "kernelspec": {
   "display_name": "Python 3",
   "language": "python",
   "name": "python3"
  },
  "language_info": {
   "codemirror_mode": {
    "name": "ipython",
    "version": 3
   },
   "file_extension": ".py",
   "mimetype": "text/x-python",
   "name": "python",
   "nbconvert_exporter": "python",
   "pygments_lexer": "ipython3",
   "version": "3.6.5"
  }
 },
 "nbformat": 4,
 "nbformat_minor": 2
}
