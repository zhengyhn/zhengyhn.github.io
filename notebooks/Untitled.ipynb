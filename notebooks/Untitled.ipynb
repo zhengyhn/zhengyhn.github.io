{
 "cells": [
  {
   "cell_type": "code",
   "execution_count": 5,
   "metadata": {},
   "outputs": [
    {
     "name": "stdout",
     "output_type": "stream",
     "text": [
      "187\n"
     ]
    }
   ],
   "source": [
    "import numpy as np\n",
    "\n",
    "def continue_sub_arr_sum(arr):\n",
    "    max = -0xffff\n",
    "    for i in range(0, len(arr)):\n",
    "        sum = 0\n",
    "        for j in range(i, len(arr)):\n",
    "            sum += arr[j]\n",
    "            if sum < 0:\n",
    "                i = j\n",
    "                break\n",
    "            if sum > max:\n",
    "                max = sum\n",
    "    return max\n",
    "\n",
    "def continue_sub_arr_sum2(arr):\n",
    "    sum = 0\n",
    "    max = -0xffff\n",
    "    for i in range(0, len(arr)):\n",
    "        sum += arr[i]\n",
    "        if sum < 0:\n",
    "            sum = 0\n",
    "        if arr[i] > 0 and sum > max:\n",
    "            max = sum\n",
    "    return max\n",
    "\n",
    "test_arr = [31, -41, 59, 26, -53, 58, 97, -93, -23, 84]\n",
    "ret = continue_sub_arr_sum2(test_arr)\n",
    "print(ret)"
   ]
  }
 ],
 "metadata": {
  "kernelspec": {
   "display_name": "Python 3",
   "language": "python",
   "name": "python3"
  },
  "language_info": {
   "codemirror_mode": {
    "name": "ipython",
    "version": 3
   },
   "file_extension": ".py",
   "mimetype": "text/x-python",
   "name": "python",
   "nbconvert_exporter": "python",
   "pygments_lexer": "ipython3",
   "version": "3.6.5"
  }
 },
 "nbformat": 4,
 "nbformat_minor": 2
}
