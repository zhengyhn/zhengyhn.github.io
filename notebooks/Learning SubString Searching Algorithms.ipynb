{
 "cells": [
  {
   "cell_type": "code",
   "execution_count": 8,
   "metadata": {},
   "outputs": [
    {
     "name": "stdout",
     "output_type": "stream",
     "text": [
      "[-1, 0, 0, 1, 2, 3]\n",
      "11 6\n",
      "5\n"
     ]
    }
   ],
   "source": [
    "def substr_kmp(string, pattern):\n",
    "    if len(string) == 0 or len(pattern) == 0:\n",
    "        return -1\n",
    "    next_table = [-1 for i in range(0, len(pattern))]\n",
    "    \n",
    "    i = 0\n",
    "    j = -1\n",
    "    while i < len(pattern) - 1:\n",
    "        if j == -1 or pattern[i] == pattern[j]:\n",
    "            i += 1\n",
    "            j += 1\n",
    "            next_table[i] = j\n",
    "        else:\n",
    "            j = next_table[j]\n",
    "    print(next_table)\n",
    "    i = 0\n",
    "    j = 0\n",
    "    while i < len(string) and j < len(pattern):\n",
    "        if j == - 1 or string[i] == pattern[j]:\n",
    "            i += 1\n",
    "            j += 1\n",
    "        else:\n",
    "            j = next_table[j]\n",
    "    \n",
    "    print(i, j)\n",
    "    if j == len(pattern):\n",
    "        return i - j\n",
    "    else:\n",
    "        return -1\n",
    "    \n",
    "string = 'ababaababab'\n",
    "pattern = 'ababab'\n",
    "print(substr_kmp(string, pattern))"
   ]
  },
  {
   "cell_type": "code",
   "execution_count": null,
   "metadata": {},
   "outputs": [],
   "source": []
  }
 ],
 "metadata": {
  "front-matter": {
   "date": "2018-10-06",
   "slug": "learning-substring-searching-algorithms",
   "subtitle": "Generic subtitle",
   "title": "Learning SubString Searching Algorithms"
  },
  "hugo-jupyter": {
   "render-to": "content/post/"
  },
  "kernelspec": {
   "display_name": "Python 3",
   "language": "python",
   "name": "python3"
  },
  "language_info": {
   "codemirror_mode": {
    "name": "ipython",
    "version": 3
   },
   "file_extension": ".py",
   "mimetype": "text/x-python",
   "name": "python",
   "nbconvert_exporter": "python",
   "pygments_lexer": "ipython3",
   "version": "3.6.5"
  }
 },
 "nbformat": 4,
 "nbformat_minor": 2
}
