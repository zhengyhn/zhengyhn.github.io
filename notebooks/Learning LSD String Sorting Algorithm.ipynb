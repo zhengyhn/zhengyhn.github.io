{
 "cells": [
  {
   "cell_type": "markdown",
   "metadata": {},
   "source": [
    "## 场景\n",
    "假设有一个手机号数组，要求对这个数组进行排序，怎么样排序最快呢？\n",
    "\n",
    "一般我们会用快排来实现，现场写一个快排:"
   ]
  },
  {
   "cell_type": "code",
   "execution_count": 39,
   "metadata": {},
   "outputs": [
    {
     "name": "stdout",
     "output_type": "stream",
     "text": [
      "['66561365246', '38002373724', '03228006448', '21864795885', '30174569904', '49813215241', '38227191647', '76392761414', '91683092344', '41287861631']\n",
      "['03228006448', '21864795885', '30174569904', '38002373724', '38227191647', '41287861631', '49813215241', '66561365246', '76392761414', '91683092344']\n"
     ]
    }
   ],
   "source": [
    "from collections import deque\n",
    "\n",
    "def swap(strs, i, j):\n",
    "    temp = strs[i]\n",
    "    strs[i] = strs[j]\n",
    "    strs[j] = temp\n",
    "    \n",
    "def quick_sort(strs):\n",
    "    queue = deque([0, len(strs) - 1])\n",
    "    while len(queue) > 0:\n",
    "        start = queue.popleft()\n",
    "        end = queue.popleft()\n",
    "        if start >= end:\n",
    "            continue\n",
    "        pivot_idx = (start + end) // 2\n",
    "        swap(strs, pivot_idx, end)\n",
    "        # 左边最后一个元素位置\n",
    "        last_left = start - 1\n",
    "        for i in range(start, end):\n",
    "            if strs[i] <= strs[end]:\n",
    "                last_left += 1\n",
    "                swap(strs, last_left, i)\n",
    "        last_left += 1\n",
    "        swap(strs, last_left, end)\n",
    "        \n",
    "        if start < last_left - 1:\n",
    "            queue.append(start)\n",
    "            queue.append(last_left - 1)\n",
    "        if last_left + 1 < end:\n",
    "            queue.append(last_left + 1)\n",
    "            queue.append(end)    \n",
    "            \n",
    "phones = []\n",
    "for i in range(0, 10):\n",
    "    phone = ''.join([chr(random.randint(0, 9) + ord('0')) for i in range(0, 11)])\n",
    "    phones.append(phone)\n",
    "print(phones)\n",
    "quick_sort(phones)\n",
    "print(phones)"
   ]
  },
  {
   "cell_type": "markdown",
   "metadata": {},
   "source": [
    "快排的平均时间复杂度为$O(NlogN)$, 最坏情况下为$O(N^2)$。\n",
    "\n",
    "如果用python内置的sort函数，来实现，代码如下:"
   ]
  },
  {
   "cell_type": "code",
   "execution_count": 40,
   "metadata": {},
   "outputs": [
    {
     "name": "stdout",
     "output_type": "stream",
     "text": [
      "['77394403528', '15857558563', '45028910925', '71613153605', '81278799222', '12345985296', '34263442777', '32325476547', '11424460014', '04413300618']\n",
      "['04413300618', '11424460014', '12345985296', '15857558563', '32325476547', '34263442777', '45028910925', '71613153605', '77394403528', '81278799222']\n"
     ]
    }
   ],
   "source": [
    "import random\n",
    "\n",
    "phones = []\n",
    "for i in range(0, 10):\n",
    "    phone = ''.join([chr(random.randint(0, 9) + ord('0')) for i in range(0, 11)])\n",
    "    phones.append(phone)\n",
    "print(phones)\n",
    "\n",
    "phones.sort()\n",
    "print(phones)"
   ]
  },
  {
   "cell_type": "markdown",
   "metadata": {},
   "source": [
    "python的sort的内部实现是TimSort，一种改良的归并排序，平均时间复杂度为$O(NlogN)$, 这个算法非常快，据说内部实现是1000多行的C语言代码。\n",
    "\n",
    "针对我们这个应用场景，《算法》一书里面讲到另外一种字符串排序算法，叫LSD字符串排序算法。它的时间复杂度可以达到$O(N * W)$，其中W是字符串的长度。\n",
    "\n",
    "要理解这个算法，首先要学会桶排序，或者叫基数排序。\n",
    "\n",
    "## 桶排序\n",
    "\n",
    "桶排序是一种针对特定场景的排序，比如我已知一个数组每个元素的取值范围是0~9，它的思想就是用一个辅助数组来记录每个元素出现的次数，最后回写原数组。看代码:\n"
   ]
  },
  {
   "cell_type": "code",
   "execution_count": 41,
   "metadata": {},
   "outputs": [
    {
     "name": "stdout",
     "output_type": "stream",
     "text": [
      "[1, 4, 7, 5, 2, 8, 3, 6, 8, 6]\n",
      "[1, 2, 3, 4, 5, 6, 6, 7, 8, 8]\n"
     ]
    }
   ],
   "source": [
    "nums = [random.randint(0, 9) for i in range(10)]\n",
    "\n",
    "def bucket_sort(arr):\n",
    "    aux = [0] * 10\n",
    "    for i in arr:\n",
    "        aux[i] += 1\n",
    "    i, j = 0, 0\n",
    "    for i in range(0, len(aux)):\n",
    "        while aux[i] > 0:\n",
    "            arr[j] = i\n",
    "            aux[i] -= 1\n",
    "            j += 1\n",
    "\n",
    "print(nums)\n",
    "bucket_sort(nums)\n",
    "print(nums)"
   ]
  },
  {
   "cell_type": "markdown",
   "metadata": {},
   "source": [
    "可以看到，桶排序的时间复杂度为$O(N + M)$，其中M为取值范围的大小，另外需要增加$O(M)$的空间复杂度。\n",
    "\n",
    "由于特定字符串的取值范围是固定的，比如手机号就是11个0~9的数字，如果使用桶排序，是不是可以大大提高速度呢？\n",
    "\n",
    "## LSD字符串排序\n",
    "\n",
    "LSD(Least-Significant-Digit)字符串排序，它的思想是这样的，从每个字符串的低位开始，对最低位做一次桶排序，完成之后，再往高位做桶排序，一共做W次桶排序，其中W是字符串的长度。注意，在我们这个应用场景里面，每个字符串的长度是一样的。代码实现如下:"
   ]
  },
  {
   "cell_type": "code",
   "execution_count": 42,
   "metadata": {},
   "outputs": [
    {
     "name": "stdout",
     "output_type": "stream",
     "text": [
      "['05768655755', '38865328632', '71828701047', '09656342951', '02847623199', '15963698899', '41078839807', '43612067480', '00632587965', '23790216100']\n",
      "['00632587965', '02847623199', '05768655755', '09656342951', '15963698899', '23790216100', '38865328632', '41078839807', '43612067480', '71828701047']\n"
     ]
    }
   ],
   "source": [
    "phones = []\n",
    "for i in range(0, 10):\n",
    "    phone = ''.join([chr(random.randint(0, 9) + ord('0')) for i in range(0, 11)])\n",
    "    phones.append(phone)\n",
    "\n",
    "def lsd_sort(strs):\n",
    "    # 从低位往高位\n",
    "    for i in range(len(strs[0]) - 1, -1, -1):\n",
    "        # 记录各个字符对应的字符串\n",
    "        aux = [[] for _ in range(10)]\n",
    "        for j in range(0, len(strs)):\n",
    "            idx = ord(strs[j][i]) - ord('0')\n",
    "            aux[idx].append(strs[j])\n",
    "        k = 0\n",
    "        for j in range(0, 10):\n",
    "            for item in aux[j]:\n",
    "                strs[k] = item\n",
    "                k += 1\n",
    "    \n",
    "print(phones)\n",
    "lsd_sort(phones)\n",
    "print(phones)"
   ]
  },
  {
   "cell_type": "markdown",
   "metadata": {},
   "source": [
    "这个算法，每次M个循环里面，都做了1次N循环和1次10循环，所以总的时间复杂度$O(N * M)$。来写个性能测试来比较一下这3种排序算法哪个更快。"
   ]
  },
  {
   "cell_type": "code",
   "execution_count": null,
   "metadata": {},
   "outputs": [],
   "source": []
  },
  {
   "cell_type": "code",
   "execution_count": 43,
   "metadata": {
    "scrolled": true
   },
   "outputs": [
    {
     "name": "stdout",
     "output_type": "stream",
     "text": [
      "2.6599199120000776\n",
      "2.1297218710005836\n",
      "2.5268346160000874\n"
     ]
    }
   ],
   "source": [
    "import timeit\n",
    "\n",
    "phone_len = 11\n",
    "N = 10000\n",
    "\n",
    "def lsd_sort_test():\n",
    "    phones = []\n",
    "    for i in range(0, N):\n",
    "        phone = ''.join([chr(random.randint(0, 9) + ord('0')) for i in range(0, phone_len)])\n",
    "        phones.append(phone)\n",
    "    lsd_sort(phones)\n",
    "    \n",
    "def timsort_test():\n",
    "    phones = []\n",
    "    for i in range(0, N):\n",
    "        phone = ''.join([chr(random.randint(0, 9) + ord('0')) for i in range(0, phone_len)])\n",
    "        phones.append(phone)\n",
    "    phones.sort()\n",
    "    \n",
    "def quick_sort_test():\n",
    "    phones = []\n",
    "    for i in range(0, N):\n",
    "        phone = ''.join([chr(random.randint(0, 9) + ord('0')) for i in range(0, phone_len)])\n",
    "        phones.append(phone)\n",
    "    quick_sort(phones)\n",
    "    \n",
    "print(timeit.timeit('lsd_sort_test()', number=10, setup=\"from __main__ import lsd_sort_test\"))\n",
    "print(timeit.timeit('timsort_test()', number=10, setup=\"from __main__ import timsort_test\"))\n",
    "print(timeit.timeit('quick_sort_test()', number=10, setup=\"from __main__ import quick_sort_test\"))"
   ]
  },
  {
   "cell_type": "markdown",
   "metadata": {},
   "source": [
    "测试发现，对于10000个随机11位字符串，内置的timsort算法是最快的，然后是快排，然后是LSD排序算法。这下子啪啪啪打脸了，本来以为这个LSD算法$O(N * W)$的时间复杂度是比$O(NlogN)$要快，但是结果是比快排要慢。大概的原因是，由于字符串长度是11，共10000个用例，log2(10000)是13.28，只比11大一点点，由于LSD排序还要开辟新空间并回写到原数组，所以会慢一些，如果把字符串长度调小或者用例数量调大，LSD排序是要比快排快的。\n",
    "比如字符串长度为3:"
   ]
  },
  {
   "cell_type": "code",
   "execution_count": 46,
   "metadata": {},
   "outputs": [
    {
     "name": "stdout",
     "output_type": "stream",
     "text": [
      "0.780066997999711\n",
      "0.6570827010000357\n",
      "1.2234976199997618\n"
     ]
    }
   ],
   "source": [
    "phone_len = 3\n",
    "N = 10000\n",
    "\n",
    "def lsd_sort_test():\n",
    "    phones = []\n",
    "    for i in range(0, N):\n",
    "        phone = ''.join([chr(random.randint(0, 9) + ord('0')) for i in range(0, phone_len)])\n",
    "        phones.append(phone)\n",
    "    lsd_sort(phones)\n",
    "    \n",
    "def timsort_test():\n",
    "    phones = []\n",
    "    for i in range(0, N):\n",
    "        phone = ''.join([chr(random.randint(0, 9) + ord('0')) for i in range(0, phone_len)])\n",
    "        phones.append(phone)\n",
    "    phones.sort()\n",
    "    \n",
    "def quick_sort_test():\n",
    "    phones = []\n",
    "    for i in range(0, N):\n",
    "        phone = ''.join([chr(random.randint(0, 9) + ord('0')) for i in range(0, phone_len)])\n",
    "        phones.append(phone)\n",
    "    quick_sort(phones)\n",
    "    \n",
    "print(timeit.timeit('lsd_sort_test()', number=10, setup=\"from __main__ import lsd_sort_test\"))\n",
    "print(timeit.timeit('timsort_test()', number=10, setup=\"from __main__ import timsort_test\"))\n",
    "print(timeit.timeit('quick_sort_test()', number=10, setup=\"from __main__ import quick_sort_test\"))"
   ]
  },
  {
   "cell_type": "markdown",
   "metadata": {},
   "source": [
    "TimSort真的是快，这算法真不是吹牛的，不愧是python和java的内置算法。\n",
    "\n",
    "## 参考资料\n",
    "- 《算法》第4版"
   ]
  }
 ],
 "metadata": {
  "front-matter": {
   "date": "2018-09-08",
   "slug": "Learning LSD String Sorting Algorithm",
   "subtitle": "Generic subtitle",
   "title": "Learning LSD String Sorting Algorithm"
  },
  "hugo-jupyter": {
   "render-to": "content/post/"
  },
  "kernelspec": {
   "display_name": "Python 3",
   "language": "python",
   "name": "python3"
  },
  "language_info": {
   "codemirror_mode": {
    "name": "ipython",
    "version": 3
   },
   "file_extension": ".py",
   "mimetype": "text/x-python",
   "name": "python",
   "nbconvert_exporter": "python",
   "pygments_lexer": "ipython3",
   "version": "3.6.5"
  }
 },
 "nbformat": 4,
 "nbformat_minor": 2
}
